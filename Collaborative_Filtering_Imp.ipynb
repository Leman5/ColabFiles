{
  "nbformat": 4,
  "nbformat_minor": 0,
  "metadata": {
    "colab": {
      "provenance": [],
      "gpuType": "T4",
      "machine_shape": "hm",
      "include_colab_link": true
    },
    "kernelspec": {
      "name": "python3",
      "display_name": "Python 3"
    },
    "language_info": {
      "name": "python"
    }
  },
  "cells": [
    {
      "cell_type": "markdown",
      "metadata": {
        "id": "view-in-github",
        "colab_type": "text"
      },
      "source": [
        "<a href=\"https://colab.research.google.com/github/Leman5/ColabFiles/blob/main/Collaborative_Filtering_Imp.ipynb\" target=\"_parent\"><img src=\"https://colab.research.google.com/assets/colab-badge.svg\" alt=\"Open In Colab\"/></a>"
      ]
    },
    {
      "cell_type": "markdown",
      "source": [
        "# Collaboative Filtering Method ( Anime Recommendation System)"
      ],
      "metadata": {
        "id": "Oac5Yvtz9Gv3"
      }
    },
    {
      "cell_type": "markdown",
      "source": [
        "Methods Implemented\n",
        "A. Memory Based (User Based and Item Based Collaborative Filtering)"
      ],
      "metadata": {
        "id": "nLU7yv4n5VYd"
      }
    },
    {
      "cell_type": "markdown",
      "source": [
        "Load Data and Preprocess Step\n"
      ],
      "metadata": {
        "id": "5_3EkRkb5TFJ"
      }
    },
    {
      "cell_type": "code",
      "source": [
        "# Package imports\n",
        "from sklearn.metrics.pairwise import cosine_similarity\n",
        "import numpy as np\n",
        "from sklearn.model_selection import train_test_split\n",
        "from sklearn.metrics import mean_absolute_error\n",
        "import pandas as pd\n",
        "import matplotlib.pyplot as plt\n",
        "import seaborn as sns"
      ],
      "metadata": {
        "id": "8s4ewAYs9U61"
      },
      "execution_count": 5,
      "outputs": []
    },
    {
      "cell_type": "code",
      "source": [
        "# Mount the google drive\n",
        "from google.colab import drive\n",
        "drive.mount('/content/drive')\n"
      ],
      "metadata": {
        "colab": {
          "base_uri": "https://localhost:8080/"
        },
        "id": "VkEXx2BoqatC",
        "outputId": "f7953475-43c6-420a-a304-3fc975d11fef"
      },
      "execution_count": 6,
      "outputs": [
        {
          "output_type": "stream",
          "name": "stdout",
          "text": [
            "Drive already mounted at /content/drive; to attempt to forcibly remount, call drive.mount(\"/content/drive\", force_remount=True).\n"
          ]
        }
      ]
    },
    {
      "cell_type": "code",
      "source": [
        "file_path = '/content/drive/My Drive/Anime Recommender System/Datasets/' # Generic file path\n",
        "anime_rating_file_path = file_path + 'user-filtered.csv' # File path of the anime ratings along with user IDs\n",
        "anime_data_file_path = file_path + 'anime-filtered.csv' # File path of the anime data\n",
        "user_details_file_path = file_path + 'users-details-2023.csv' # File path of user details data\n",
        "ratings_df = pd.read_csv(anime_rating_file_path) # Create dataframe of anime ratings\n",
        "\n",
        "anime_df = pd.read_csv(anime_data_file_path)  # Create dataframe of anime\n",
        "\n",
        "user_df = pd.read_csv(user_details_file_path) # Create dataframe for user details"
      ],
      "metadata": {
        "id": "HpbF80HiB7Mi"
      },
      "execution_count": 7,
      "outputs": []
    },
    {
      "cell_type": "code",
      "source": [
        "# Show some rows in rating dataframe\n",
        "print(ratings_df.head(5))"
      ],
      "metadata": {
        "colab": {
          "base_uri": "https://localhost:8080/"
        },
        "id": "Wmw1ZpoA7A_d",
        "outputId": "c637c51e-3ec8-4121-9e70-f0045b727601"
      },
      "execution_count": 8,
      "outputs": [
        {
          "output_type": "stream",
          "name": "stdout",
          "text": [
            "   user_id  anime_id  rating\n",
            "0        0        67       9\n",
            "1        0      6702       7\n",
            "2        0       242      10\n",
            "3        0      4898       0\n",
            "4        0        21      10\n"
          ]
        }
      ]
    },
    {
      "cell_type": "code",
      "source": [
        "print(user_df.head(5))"
      ],
      "metadata": {
        "colab": {
          "base_uri": "https://localhost:8080/"
        },
        "id": "IzTyFD1d7GYc",
        "outputId": "7927b9a5-61d1-4660-c7d9-89592511221f"
      },
      "execution_count": 9,
      "outputs": [
        {
          "output_type": "stream",
          "name": "stdout",
          "text": [
            "   Mal ID Username  Gender                   Birthday              Location  \\\n",
            "0       1    Xinil    Male  1985-03-04T00:00:00+00:00            California   \n",
            "1       3  Aokaado    Male                        NaN          Oslo, Norway   \n",
            "2       4  Crystal  Female                        NaN  Melbourne, Australia   \n",
            "3       9   Arcane     NaN                        NaN                   NaN   \n",
            "4      18      Mad     NaN                        NaN                   NaN   \n",
            "\n",
            "                      Joined  Days Watched  Mean Score  Watching  Completed  \\\n",
            "0  2004-11-05T00:00:00+00:00         142.3        7.37       1.0      233.0   \n",
            "1  2004-11-11T00:00:00+00:00          68.6        7.34      23.0      137.0   \n",
            "2  2004-11-13T00:00:00+00:00         212.8        6.68      16.0      636.0   \n",
            "3  2004-12-05T00:00:00+00:00          30.0        7.71       5.0       54.0   \n",
            "4  2005-01-03T00:00:00+00:00          52.0        6.27       1.0      114.0   \n",
            "\n",
            "   On Hold  Dropped  Plan to Watch  Total Entries  Rewatched  Episodes Watched  \n",
            "0      8.0     93.0           64.0          399.0       60.0            8458.0  \n",
            "1     99.0     44.0           40.0          343.0       15.0            4072.0  \n",
            "2    303.0      0.0           45.0         1000.0       10.0           12781.0  \n",
            "3      4.0      3.0            0.0           66.0        0.0            1817.0  \n",
            "4     10.0      5.0           23.0          153.0       42.0            3038.0  \n"
          ]
        }
      ]
    },
    {
      "cell_type": "code",
      "source": [
        "# Show some rows in anime dataframe\n",
        "print(anime_df.head(3))"
      ],
      "metadata": {
        "colab": {
          "base_uri": "https://localhost:8080/"
        },
        "id": "rWYGMokf7UZJ",
        "outputId": "32cbb779-976e-4130-a447-e7ecade89c8f"
      },
      "execution_count": 10,
      "outputs": [
        {
          "output_type": "stream",
          "name": "stdout",
          "text": [
            "   anime_id                             Name  Score  \\\n",
            "0         1                     Cowboy Bebop   8.78   \n",
            "1         5  Cowboy Bebop: Tengoku no Tobira   8.39   \n",
            "2         6                           Trigun   8.24   \n",
            "\n",
            "                                              Genres            English name  \\\n",
            "0    Action, Adventure, Comedy, Drama, Sci-Fi, Space            Cowboy Bebop   \n",
            "1              Action, Drama, Mystery, Sci-Fi, Space  Cowboy Bebop:The Movie   \n",
            "2  Action, Sci-Fi, Adventure, Comedy, Drama, Shounen                  Trigun   \n",
            "\n",
            "    Japanese name                                          sypnopsis   Type  \\\n",
            "0       カウボーイビバップ  In the year 2071, humanity has colonized sever...     TV   \n",
            "1  カウボーイビバップ 天国の扉  other day, another bounty—such is the life of ...  Movie   \n",
            "2           トライガン  Vash the Stampede is the man with a $$60,000,0...     TV   \n",
            "\n",
            "  Episodes                        Aired  ...         Duration  \\\n",
            "0       26  Apr 3, 1998 to Apr 24, 1999  ...  24 min. per ep.   \n",
            "1        1                  Sep 1, 2001  ...    1 hr. 55 min.   \n",
            "2       26  Apr 1, 1998 to Sep 30, 1998  ...  24 min. per ep.   \n",
            "\n",
            "                           Rating Ranked Popularity  Members Favorites  \\\n",
            "0  R - 17+ (violence & profanity)   28.0         39  1251960     61971   \n",
            "1  R - 17+ (violence & profanity)  159.0        518   273145      1174   \n",
            "2       PG-13 - Teens 13 or older  266.0        201   558913     12944   \n",
            "\n",
            "  Watching  Completed  On-Hold  Dropped  \n",
            "0   105808     718161    71513    26678  \n",
            "1     4143     208333     1935      770  \n",
            "2    29113     343492    25465    13925  \n",
            "\n",
            "[3 rows x 25 columns]\n"
          ]
        }
      ]
    },
    {
      "cell_type": "code",
      "source": [
        "'''\n",
        "Filter the ratings dataframe by taking values of users having users that have completed watching 50 0r more animes. Also, we consider userIDs less than 30,000\n",
        "We take the subset of the data. We could not take location because very few users have location values and some of them have inconsistencies.\n",
        "'''\n",
        "\n",
        "user_df = user_df[(user_df['Completed'] >= 50) & (user_df['Mal ID'] <= 2000)] # changed to 3000 as it took long for running\n",
        "selected_user_ids = user_df['Mal ID'] # Get the selected user details\n",
        "# Filter the ratings based on user IDs and rating values range 0 to 10\n",
        "filtered_rating_df = ratings_df[(ratings_df['user_id'].isin(selected_user_ids)) & (ratings_df['rating'] >= 0) &  (ratings_df['rating'] <= 10) ]\n",
        "\n",
        "# Calculating the total number of ratings per user\n",
        "user_total_rating = filtered_rating_df['user_id'].value_counts()\n",
        "\n",
        "# Filtering users who have rated at least 50 animes\n",
        "filter_user_ids = user_total_rating[user_total_rating >= 50].index\n",
        "\n",
        "# Filter the anime ratings where user has at least 50 ratings provided\n",
        "filtered_rating_df = filtered_rating_df[filtered_rating_df['user_id'].isin(filter_user_ids)]\n",
        "\n",
        "# Counting total number of rows in filtered_rating_df\n",
        "total_rows = filtered_rating_df.shape[0]\n",
        "\n",
        "# Display the filtered DataFrame and the total number of rows\n",
        "print(filtered_rating_df)\n",
        "print(\"Total number of rows:\", total_rows)"
      ],
      "metadata": {
        "colab": {
          "base_uri": "https://localhost:8080/"
        },
        "id": "csTYjj6M6SjS",
        "outputId": "a40c08c1-1534-4770-de4c-69ccc8d81f2b"
      },
      "execution_count": 11,
      "outputs": [
        {
          "output_type": "stream",
          "name": "stdout",
          "text": [
            "        user_id  anime_id  rating\n",
            "74            1     37403       8\n",
            "75            1      9989       0\n",
            "76            1     24833       0\n",
            "77            1      7674       7\n",
            "78            1     34572       0\n",
            "...         ...       ...     ...\n",
            "600356     2000     11757       4\n",
            "600357     2000      3457       4\n",
            "600358     2000     38408       0\n",
            "600359     2000     35972       0\n",
            "600360     2000     34134       0\n",
            "\n",
            "[202556 rows x 3 columns]\n",
            "Total number of rows: 202556\n"
          ]
        }
      ]
    },
    {
      "cell_type": "code",
      "source": [
        "# Preprocess the data\n",
        "filtered_rating_df = filtered_rating_df.drop_duplicates(subset=['user_id', 'anime_id']) # Drop duplicate values\n",
        "filtered_rating_df = filtered_rating_df.dropna() # Drop missing values\n",
        "filtered_rating_df['rating'] = filtered_rating_df['rating'].astype(float) # Converting type of ratings to float"
      ],
      "metadata": {
        "id": "vSqT3gGpAbdm"
      },
      "execution_count": 12,
      "outputs": []
    },
    {
      "cell_type": "code",
      "source": [
        "filtered_rating_df.head(4)"
      ],
      "metadata": {
        "colab": {
          "base_uri": "https://localhost:8080/",
          "height": 175
        },
        "id": "yhbPh4wLBbjj",
        "outputId": "09c52291-38e1-479b-93f2-8d96d6b98a74"
      },
      "execution_count": 13,
      "outputs": [
        {
          "output_type": "execute_result",
          "data": {
            "text/plain": [
              "    user_id  anime_id  rating\n",
              "74        1     37403     8.0\n",
              "75        1      9989     0.0\n",
              "76        1     24833     0.0\n",
              "77        1      7674     7.0"
            ],
            "text/html": [
              "\n",
              "  <div id=\"df-68931728-678b-49bb-95a5-b9c40d7090ad\" class=\"colab-df-container\">\n",
              "    <div>\n",
              "<style scoped>\n",
              "    .dataframe tbody tr th:only-of-type {\n",
              "        vertical-align: middle;\n",
              "    }\n",
              "\n",
              "    .dataframe tbody tr th {\n",
              "        vertical-align: top;\n",
              "    }\n",
              "\n",
              "    .dataframe thead th {\n",
              "        text-align: right;\n",
              "    }\n",
              "</style>\n",
              "<table border=\"1\" class=\"dataframe\">\n",
              "  <thead>\n",
              "    <tr style=\"text-align: right;\">\n",
              "      <th></th>\n",
              "      <th>user_id</th>\n",
              "      <th>anime_id</th>\n",
              "      <th>rating</th>\n",
              "    </tr>\n",
              "  </thead>\n",
              "  <tbody>\n",
              "    <tr>\n",
              "      <th>74</th>\n",
              "      <td>1</td>\n",
              "      <td>37403</td>\n",
              "      <td>8.0</td>\n",
              "    </tr>\n",
              "    <tr>\n",
              "      <th>75</th>\n",
              "      <td>1</td>\n",
              "      <td>9989</td>\n",
              "      <td>0.0</td>\n",
              "    </tr>\n",
              "    <tr>\n",
              "      <th>76</th>\n",
              "      <td>1</td>\n",
              "      <td>24833</td>\n",
              "      <td>0.0</td>\n",
              "    </tr>\n",
              "    <tr>\n",
              "      <th>77</th>\n",
              "      <td>1</td>\n",
              "      <td>7674</td>\n",
              "      <td>7.0</td>\n",
              "    </tr>\n",
              "  </tbody>\n",
              "</table>\n",
              "</div>\n",
              "    <div class=\"colab-df-buttons\">\n",
              "\n",
              "  <div class=\"colab-df-container\">\n",
              "    <button class=\"colab-df-convert\" onclick=\"convertToInteractive('df-68931728-678b-49bb-95a5-b9c40d7090ad')\"\n",
              "            title=\"Convert this dataframe to an interactive table.\"\n",
              "            style=\"display:none;\">\n",
              "\n",
              "  <svg xmlns=\"http://www.w3.org/2000/svg\" height=\"24px\" viewBox=\"0 -960 960 960\">\n",
              "    <path d=\"M120-120v-720h720v720H120Zm60-500h600v-160H180v160Zm220 220h160v-160H400v160Zm0 220h160v-160H400v160ZM180-400h160v-160H180v160Zm440 0h160v-160H620v160ZM180-180h160v-160H180v160Zm440 0h160v-160H620v160Z\"/>\n",
              "  </svg>\n",
              "    </button>\n",
              "\n",
              "  <style>\n",
              "    .colab-df-container {\n",
              "      display:flex;\n",
              "      gap: 12px;\n",
              "    }\n",
              "\n",
              "    .colab-df-convert {\n",
              "      background-color: #E8F0FE;\n",
              "      border: none;\n",
              "      border-radius: 50%;\n",
              "      cursor: pointer;\n",
              "      display: none;\n",
              "      fill: #1967D2;\n",
              "      height: 32px;\n",
              "      padding: 0 0 0 0;\n",
              "      width: 32px;\n",
              "    }\n",
              "\n",
              "    .colab-df-convert:hover {\n",
              "      background-color: #E2EBFA;\n",
              "      box-shadow: 0px 1px 2px rgba(60, 64, 67, 0.3), 0px 1px 3px 1px rgba(60, 64, 67, 0.15);\n",
              "      fill: #174EA6;\n",
              "    }\n",
              "\n",
              "    .colab-df-buttons div {\n",
              "      margin-bottom: 4px;\n",
              "    }\n",
              "\n",
              "    [theme=dark] .colab-df-convert {\n",
              "      background-color: #3B4455;\n",
              "      fill: #D2E3FC;\n",
              "    }\n",
              "\n",
              "    [theme=dark] .colab-df-convert:hover {\n",
              "      background-color: #434B5C;\n",
              "      box-shadow: 0px 1px 3px 1px rgba(0, 0, 0, 0.15);\n",
              "      filter: drop-shadow(0px 1px 2px rgba(0, 0, 0, 0.3));\n",
              "      fill: #FFFFFF;\n",
              "    }\n",
              "  </style>\n",
              "\n",
              "    <script>\n",
              "      const buttonEl =\n",
              "        document.querySelector('#df-68931728-678b-49bb-95a5-b9c40d7090ad button.colab-df-convert');\n",
              "      buttonEl.style.display =\n",
              "        google.colab.kernel.accessAllowed ? 'block' : 'none';\n",
              "\n",
              "      async function convertToInteractive(key) {\n",
              "        const element = document.querySelector('#df-68931728-678b-49bb-95a5-b9c40d7090ad');\n",
              "        const dataTable =\n",
              "          await google.colab.kernel.invokeFunction('convertToInteractive',\n",
              "                                                    [key], {});\n",
              "        if (!dataTable) return;\n",
              "\n",
              "        const docLinkHtml = 'Like what you see? Visit the ' +\n",
              "          '<a target=\"_blank\" href=https://colab.research.google.com/notebooks/data_table.ipynb>data table notebook</a>'\n",
              "          + ' to learn more about interactive tables.';\n",
              "        element.innerHTML = '';\n",
              "        dataTable['output_type'] = 'display_data';\n",
              "        await google.colab.output.renderOutput(dataTable, element);\n",
              "        const docLink = document.createElement('div');\n",
              "        docLink.innerHTML = docLinkHtml;\n",
              "        element.appendChild(docLink);\n",
              "      }\n",
              "    </script>\n",
              "  </div>\n",
              "\n",
              "\n",
              "<div id=\"df-0ee259c2-3b31-409c-a527-0b8a0b6b8237\">\n",
              "  <button class=\"colab-df-quickchart\" onclick=\"quickchart('df-0ee259c2-3b31-409c-a527-0b8a0b6b8237')\"\n",
              "            title=\"Suggest charts\"\n",
              "            style=\"display:none;\">\n",
              "\n",
              "<svg xmlns=\"http://www.w3.org/2000/svg\" height=\"24px\"viewBox=\"0 0 24 24\"\n",
              "     width=\"24px\">\n",
              "    <g>\n",
              "        <path d=\"M19 3H5c-1.1 0-2 .9-2 2v14c0 1.1.9 2 2 2h14c1.1 0 2-.9 2-2V5c0-1.1-.9-2-2-2zM9 17H7v-7h2v7zm4 0h-2V7h2v10zm4 0h-2v-4h2v4z\"/>\n",
              "    </g>\n",
              "</svg>\n",
              "  </button>\n",
              "\n",
              "<style>\n",
              "  .colab-df-quickchart {\n",
              "      --bg-color: #E8F0FE;\n",
              "      --fill-color: #1967D2;\n",
              "      --hover-bg-color: #E2EBFA;\n",
              "      --hover-fill-color: #174EA6;\n",
              "      --disabled-fill-color: #AAA;\n",
              "      --disabled-bg-color: #DDD;\n",
              "  }\n",
              "\n",
              "  [theme=dark] .colab-df-quickchart {\n",
              "      --bg-color: #3B4455;\n",
              "      --fill-color: #D2E3FC;\n",
              "      --hover-bg-color: #434B5C;\n",
              "      --hover-fill-color: #FFFFFF;\n",
              "      --disabled-bg-color: #3B4455;\n",
              "      --disabled-fill-color: #666;\n",
              "  }\n",
              "\n",
              "  .colab-df-quickchart {\n",
              "    background-color: var(--bg-color);\n",
              "    border: none;\n",
              "    border-radius: 50%;\n",
              "    cursor: pointer;\n",
              "    display: none;\n",
              "    fill: var(--fill-color);\n",
              "    height: 32px;\n",
              "    padding: 0;\n",
              "    width: 32px;\n",
              "  }\n",
              "\n",
              "  .colab-df-quickchart:hover {\n",
              "    background-color: var(--hover-bg-color);\n",
              "    box-shadow: 0 1px 2px rgba(60, 64, 67, 0.3), 0 1px 3px 1px rgba(60, 64, 67, 0.15);\n",
              "    fill: var(--button-hover-fill-color);\n",
              "  }\n",
              "\n",
              "  .colab-df-quickchart-complete:disabled,\n",
              "  .colab-df-quickchart-complete:disabled:hover {\n",
              "    background-color: var(--disabled-bg-color);\n",
              "    fill: var(--disabled-fill-color);\n",
              "    box-shadow: none;\n",
              "  }\n",
              "\n",
              "  .colab-df-spinner {\n",
              "    border: 2px solid var(--fill-color);\n",
              "    border-color: transparent;\n",
              "    border-bottom-color: var(--fill-color);\n",
              "    animation:\n",
              "      spin 1s steps(1) infinite;\n",
              "  }\n",
              "\n",
              "  @keyframes spin {\n",
              "    0% {\n",
              "      border-color: transparent;\n",
              "      border-bottom-color: var(--fill-color);\n",
              "      border-left-color: var(--fill-color);\n",
              "    }\n",
              "    20% {\n",
              "      border-color: transparent;\n",
              "      border-left-color: var(--fill-color);\n",
              "      border-top-color: var(--fill-color);\n",
              "    }\n",
              "    30% {\n",
              "      border-color: transparent;\n",
              "      border-left-color: var(--fill-color);\n",
              "      border-top-color: var(--fill-color);\n",
              "      border-right-color: var(--fill-color);\n",
              "    }\n",
              "    40% {\n",
              "      border-color: transparent;\n",
              "      border-right-color: var(--fill-color);\n",
              "      border-top-color: var(--fill-color);\n",
              "    }\n",
              "    60% {\n",
              "      border-color: transparent;\n",
              "      border-right-color: var(--fill-color);\n",
              "    }\n",
              "    80% {\n",
              "      border-color: transparent;\n",
              "      border-right-color: var(--fill-color);\n",
              "      border-bottom-color: var(--fill-color);\n",
              "    }\n",
              "    90% {\n",
              "      border-color: transparent;\n",
              "      border-bottom-color: var(--fill-color);\n",
              "    }\n",
              "  }\n",
              "</style>\n",
              "\n",
              "  <script>\n",
              "    async function quickchart(key) {\n",
              "      const quickchartButtonEl =\n",
              "        document.querySelector('#' + key + ' button');\n",
              "      quickchartButtonEl.disabled = true;  // To prevent multiple clicks.\n",
              "      quickchartButtonEl.classList.add('colab-df-spinner');\n",
              "      try {\n",
              "        const charts = await google.colab.kernel.invokeFunction(\n",
              "            'suggestCharts', [key], {});\n",
              "      } catch (error) {\n",
              "        console.error('Error during call to suggestCharts:', error);\n",
              "      }\n",
              "      quickchartButtonEl.classList.remove('colab-df-spinner');\n",
              "      quickchartButtonEl.classList.add('colab-df-quickchart-complete');\n",
              "    }\n",
              "    (() => {\n",
              "      let quickchartButtonEl =\n",
              "        document.querySelector('#df-0ee259c2-3b31-409c-a527-0b8a0b6b8237 button');\n",
              "      quickchartButtonEl.style.display =\n",
              "        google.colab.kernel.accessAllowed ? 'block' : 'none';\n",
              "    })();\n",
              "  </script>\n",
              "</div>\n",
              "    </div>\n",
              "  </div>\n"
            ]
          },
          "metadata": {},
          "execution_count": 13
        }
      ]
    },
    {
      "cell_type": "code",
      "source": [
        "print(filtered_rating_df.isnull().sum()) # Checking missing values in dataframe\n",
        "print(filtered_rating_df.duplicated().sum()) # Checking missing values in dataframe\n",
        "print(filtered_rating_df.info()) # Print data frame summary"
      ],
      "metadata": {
        "colab": {
          "base_uri": "https://localhost:8080/"
        },
        "id": "V4S7tGmVB5wA",
        "outputId": "c71365a1-0e52-4888-8628-f93f90f9931a"
      },
      "execution_count": 14,
      "outputs": [
        {
          "output_type": "stream",
          "name": "stdout",
          "text": [
            "user_id     0\n",
            "anime_id    0\n",
            "rating      0\n",
            "dtype: int64\n",
            "0\n",
            "<class 'pandas.core.frame.DataFrame'>\n",
            "Int64Index: 202556 entries, 74 to 600360\n",
            "Data columns (total 3 columns):\n",
            " #   Column    Non-Null Count   Dtype  \n",
            "---  ------    --------------   -----  \n",
            " 0   user_id   202556 non-null  int64  \n",
            " 1   anime_id  202556 non-null  int64  \n",
            " 2   rating    202556 non-null  float64\n",
            "dtypes: float64(1), int64(2)\n",
            "memory usage: 6.2 MB\n",
            "None\n"
          ]
        }
      ]
    },
    {
      "cell_type": "code",
      "source": [
        "# Plot the distribution of ratings\n",
        "\n",
        "sns.set_style(\"whitegrid\")\n",
        "plt.figure(figsize=(8,6))\n",
        "# Calculating count of the rating\n",
        "rating_counts = filtered_rating_df['rating'].value_counts().sort_index()\n",
        "\n",
        "# Creating a countplot with frequency of the left\n",
        "sns.countplot(x='rating', data=filtered_rating_df, order=rating_counts.index)\n",
        "\n",
        "# Adding counts on top of bar\n",
        "for i, count in enumerate(rating_counts):\n",
        "    plt.text(i, count, str(count), ha='center', va='bottom')\n",
        "\n",
        "plt.title('Distribution of Anime Ratings')\n",
        "plt.show()"
      ],
      "metadata": {
        "colab": {
          "base_uri": "https://localhost:8080/",
          "height": 564
        },
        "id": "dqcZeDCmDELs",
        "outputId": "b6046c05-9882-4d88-bedb-d167cffba1ac"
      },
      "execution_count": 15,
      "outputs": [
        {
          "output_type": "display_data",
          "data": {
            "text/plain": [
              "<Figure size 800x600 with 1 Axes>"
            ],
            "image/png": "[encoded data removed]"
          },
          "metadata": {}
        }
      ]
    },
    {
      "cell_type": "code",
      "source": [
        "selected_anime_columns = anime_df[['anime_id', 'Name', 'Score', 'Genres', 'Type', 'Episodes']] # View selected columns of the anime dataframe\n",
        "# Merge two dataframes based on 'anime_id' column value\n",
        "merged_df = filtered_rating_df.merge(anime_df[['anime_id', 'Name', 'Genres']], how='left', on='anime_id')\n",
        "\n",
        "\n",
        "# Highly rated animes (top 10 animes with more number ofa ratings)\n",
        "highly_rated_movies = merged_df['Name'].value_counts().nlargest(10)\n",
        "plt.figure(figsize=(10, 6))\n",
        "highly_rated_movies.plot(kind='bar', color = 'green')\n",
        "plt.xlabel('Anime Title')\n",
        "plt.ylabel('Total Ratings')\n",
        "plt.title('Top 10- Highly Rated Animes')\n",
        "plt.xticks(rotation=55)\n",
        "plt.show()"
      ],
      "metadata": {
        "colab": {
          "base_uri": "https://localhost:8080/",
          "height": 755
        },
        "id": "L-aVH3kZGX4B",
        "outputId": "8757e484-2859-49bc-9585-646b812cbd57"
      },
      "execution_count": 16,
      "outputs": [
        {
          "output_type": "display_data",
          "data": {
            "text/plain": [
              "<Figure size 1000x600 with 1 Axes>"
            ],
            "image/png": "[encoded data removed]"
          },
          "metadata": {}
        }
      ]
    },
    {
      "cell_type": "code",
      "source": [
        "# Show number of ratings per given user\n",
        "ratings_by_user = filtered_rating_df['user_id'].value_counts()\n",
        "plt.figure(figsize=(10, 6))\n",
        "plt.hist(ratings_by_user, bins=50, edgecolor='white', color='orange')\n",
        "plt.xlabel('Total Ratings Count')\n",
        "plt.ylabel('Total Number of Users')\n",
        "plt.title('Number of Ratings per users')\n",
        "plt.show()\n",
        "\n"
      ],
      "metadata": {
        "colab": {
          "base_uri": "https://localhost:8080/",
          "height": 564
        },
        "id": "v5bd73kTHcTd",
        "outputId": "7161e65c-0d45-4d00-ed19-0411bbaf7645"
      },
      "execution_count": 17,
      "outputs": [
        {
          "output_type": "display_data",
          "data": {
            "text/plain": [
              "<Figure size 1000x600 with 1 Axes>"
            ],
            "image/png": "[encoded data removed]"
          },
          "metadata": {}
        }
      ]
    },
    {
      "cell_type": "markdown",
      "source": [
        "# A. Memory Based - User Based Collaborative Filtering"
      ],
      "metadata": {
        "id": "YsIDljSxKrr2"
      }
    },
    {
      "cell_type": "markdown",
      "source": [
        "User Based Collaborative Filtering is implemented as follows below:\n",
        "1. First of all the anime ratings dataframe is peformed train-test split using stratified sampling over user_id such that we have similar distribution in both train and test set.\n",
        "2. We have used train dataset in order to build the user-anime matrix and also find the cosine similarity between users.\n",
        "3. The values in the test dataset will be used to predict the rating of the anime. By comparing the actual rating and predicted ratings, we have computed Root Mean Squared Error (RMSE) and Mean Absolute Error (MAE) for the evaluation.\n",
        "4. Likewise, we have shown the top-N recommendations to particular user based on top predicted ratings by the model built.\n",
        "5. For the evaluation of top-N recommendations, we have used precision@N, recall@N, f1-score@N and average precision@N for single users. For evaluating for all the users, we have used mean average precision @N which is the average precision@N over all the users.\n",
        "For the evaluation, we have used test dataset in the following way. We give top N recommendations using the train dataset for the user and we use the test dataset in order to determine whether the recommendation was relevant or not. We consider a rating threshold, if the anime recommended is rated by the same user in test dataset and the rating is equal or above the rating threshold, we consider it to be relevant recommendation. Likewise, we have evaluated Mean Average Precision@N over various rating threshold values."
      ],
      "metadata": {
        "id": "zNXWetGOKZ1l"
      }
    },
    {
      "cell_type": "code",
      "source": [
        "\n",
        "y = filtered_rating_df['user_id'].tolist() # Set the user_ids value to generate stratified sampling below\n",
        "\n",
        "# Split the dataset into a train set and a test set along with stratified split along user_id\n",
        "train_df, test_df = train_test_split(filtered_rating_df, test_size=0.2, random_state=42, stratify=y)\n",
        "\n",
        "print(\"Train/test split of the dataset\")\n",
        "print()\n",
        "print(f\"Train Dataset: Showing 20 values from head \\n\\n {train_df.head(20)}\")\n",
        "print()\n",
        "print(\"***********************************************\")\n",
        "print()\n",
        "print(f\"Test Dataset: Showing 20 values from head \\n\\n {test_df.head(20)}\")\n",
        "print()\n",
        "print(\"***********************************************\")\n",
        "print()\n",
        "print(\"Total Rows in train_df:\", train_df.shape[0])\n",
        "print(\"Total Rows test_df:\", test_df.shape[0])"
      ],
      "metadata": {
        "id": "e7wesB0IKxt5",
        "colab": {
          "base_uri": "https://localhost:8080/"
        },
        "outputId": "4aeb2da8-ccbe-420f-b605-175d63ad4e11"
      },
      "execution_count": 24,
      "outputs": [
        {
          "output_type": "stream",
          "name": "stdout",
          "text": [
            "Train/test split of the dataset\n",
            "\n",
            "Train Dataset: Showing 20 values from head \n",
            "\n",
            "         user_id  anime_id  rating\n",
            "344762     1079     19815    10.0\n",
            "31876       120     22961     9.0\n",
            "105613      357     32937     9.0\n",
            "554745     1839     34134     0.0\n",
            "582863     1941     40239     0.0\n",
            "483850     1570       736     7.0\n",
            "203622      683     34626     0.0\n",
            "145095      478      2311     1.0\n",
            "387383     1245     30727     8.0\n",
            "102650      346     27775     0.0\n",
            "123727      425       814     8.0\n",
            "362719     1162     34498     6.0\n",
            "478608     1554     32899     8.0\n",
            "203213      683     37362     8.0\n",
            "522130     1700      1538     0.0\n",
            "96731       327     34447     7.0\n",
            "117239      399       522     7.0\n",
            "214226      720     40454     8.0\n",
            "285238      906       981    10.0\n",
            "428235     1393     40254     5.0\n",
            "\n",
            "***********************************************\n",
            "\n",
            "Test Dataset: Showing 20 values from head \n",
            "\n",
            "         user_id  anime_id  rating\n",
            "345746     1085       636     0.0\n",
            "112081      376     34392     6.0\n",
            "456029     1471       121     8.0\n",
            "469321     1514     10232     7.0\n",
            "266468      860      9001     5.0\n",
            "337569     1046      1602     0.0\n",
            "77476       274     32182     0.0\n",
            "476003     1543      1571     8.0\n",
            "374923     1205     19391     7.0\n",
            "201104      678     26351     0.0\n",
            "259967      848     21329     7.0\n",
            "232345      779     37958     7.0\n",
            "275244      882     15451     6.0\n",
            "77782       274     20053     0.0\n",
            "360165     1147     32281     8.0\n",
            "145102      478     37569     8.0\n",
            "102350      346      1254     9.0\n",
            "217314      730     37141     7.0\n",
            "211204      711     37349     0.0\n",
            "140688      467     10719     0.0\n",
            "\n",
            "***********************************************\n",
            "\n",
            "Total Rows in train_df: 162044\n",
            "Total Rows test_df: 40512\n"
          ]
        }
      ]
    },
    {
      "cell_type": "markdown",
      "source": [
        "# Helper Functions Definition\n",
        "All the functions needed in the code below for implementation are defined here"
      ],
      "metadata": {
        "id": "Z0FL8UAv98Bn"
      }
    },
    {
      "cell_type": "code",
      "source": [
        "# Function to create user-anime matrix\n",
        "def create_user_anime_matrix(train_df):\n",
        "    \"\"\"\n",
        "    Using pandas-pivot function to create user-anime matrix\n",
        "    Rows represent users, columns represent anime ids and values represent ratings\n",
        "    \"\"\"\n",
        "    user_anime_matrix = train_df.pivot(index='user_id', columns='anime_id', values='rating')\n",
        "    return user_anime_matrix\n",
        "\n",
        "# Function to normalize user-anime matrix as ratings can have huge variation\n",
        "def normalize_user_anime_matrix(user_anime_matrix):\n",
        "\n",
        "    user_anime_matrix = user_anime_matrix.fillna(0) # Fill empty ratings with 0\n",
        "\n",
        "   # Calculate average rating for each user considering mean of all the ratings\n",
        "    user_rating_mean = user_anime_matrix.mean(axis = 1)\n",
        "\n",
        "    # Subtracting value with row mean and normalizing the matrix\n",
        "    user_anime_matrix_norm = user_anime_matrix.sub(user_rating_mean, axis = 0)\n",
        "\n",
        "    return user_anime_matrix_norm\n",
        "\n",
        "# Function to calculate similarity between users using cosine similarity\n",
        "def calculate_user_similarity(user_anime_matrix_norm):\n",
        "\n",
        "    # Calculate similarity using cosine similarity\n",
        "    user_similarity = cosine_similarity(user_anime_matrix_norm)\n",
        "\n",
        "    return user_similarity\n",
        "\n",
        "\n",
        "\"\"\"\n",
        "Function to normalize cosine similarity between users\n",
        "Those normalized similarities will be used as weight while calculating the anime weighted scores for recommendation\n",
        "\"\"\"\n",
        "def normalize_user_similarity(user_similarity):\n",
        "    min_cosine_value = user_similarity.min() # Evaluate min value\n",
        "    max_cosine_value = user_similarity.max() # Calculate max value\n",
        "\n",
        "    # Normalize the similarity values between users\n",
        "    normalized_user_similarity = (user_similarity - min_cosine_value) / (max_cosine_value - min_cosine_value)\n",
        "\n",
        "    return normalized_user_similarity\n",
        "\n",
        "\n",
        "\"\"\"\n",
        "Function to create dataframe from normalized user similarity values.\n",
        "The normalized user similarity that is numpy array will be converted to dataframe mapping user_ids.\n",
        "The mappings will be used to find the similarity values of particular user (provided the user_id) with other users.\n",
        "user_ids in argument is used to pass all the users such that we map respective similarity values.\n",
        "\"\"\"\n",
        "def create_df_norm_user_similarity(normalized_user_similarity, user_ids):\n",
        "\n",
        "    # Create dataframe from numpy array of normalized user similarity\n",
        "    cosine_weights_df =  pd.DataFrame(normalized_user_similarity)\n",
        "\n",
        "    cosine_weights_df.index = user_ids # Set row labels of dataframe\n",
        "    cosine_weights_df.columns = user_ids # Set column labels of dataframe\n",
        "\n",
        "    return cosine_weights_df\n",
        "\n",
        "\n",
        "\"\"\"\n",
        "Function to calculate top N similar users for given user with user_id.\n",
        "top_N_similary argument sets the number of similar users returned for the particular user.\n",
        "similarity_threshold sets the value and we filter users having similarities more than threshold value.\n",
        "\"\"\"\n",
        "def find_similar_users(cosine_similarity_df, selected_user_id,\n",
        "                       top_N_similar, similarity_threshold):\n",
        "\n",
        "    # Find the user similarity from the cosine similarity dataframe\n",
        "    selected_user_similarity = cosine_similarity_df.loc[selected_user_id]\n",
        "\n",
        "    # Remove the selected_useer_id from calculation as it similarity with itself will be 1\n",
        "    selected_user_similarity = selected_user_similarity.drop(selected_user_id)\n",
        "\n",
        "    # Sort the similarity scores in descending order\n",
        "    sorted_similarity = selected_user_similarity.sort_values(ascending=False)\n",
        "\n",
        "    # Filter the similar users based on similarity_threshold value\n",
        "    selected_similar_users = sorted_similarity[sorted_similarity >= similarity_threshold]\n",
        "\n",
        "    # Select top N similar users\n",
        "    top_N_similar_users = selected_similar_users.head(top_N_similar)\n",
        "\n",
        "\n",
        "    return top_N_similar_users\n",
        "\n",
        "\n",
        "# Function to calculate already watched animes by given user (user_id)\n",
        "def already_watched_animes(train_df, selected_user_id):\n",
        "    # Pick animes that the selected user has already watched\n",
        "    watched_animes = train_df[train_df['user_id'] == selected_user_id]['anime_id'].tolist()\n",
        "\n",
        "    watched_animes = list(set(watched_animes)) # Set unique anime ids\n",
        "\n",
        "    return watched_animes\n",
        "\n",
        "# Function to calculate animes watched by similar users\n",
        "def similar_users_watched_animes(train_df, similar_user_ids):\n",
        "    # Find animes watched by similar users\n",
        "    similar_users_animes = train_df[train_df['user_id'].isin(similar_user_ids)]['anime_id'].tolist()\n",
        "\n",
        "    similar_users_animes = list(set(similar_users_animes)) # Calculate unique anime ids\n",
        "\n",
        "    return similar_users_animes\n",
        "\n",
        "\"\"\"\n",
        "Function to filter user_anime matrix by removing anime_ids such as anime_ids that selected user has\n",
        "already watched is removed from the column. Likewise, the anime_ids that the similar users have watched are\n",
        "kept, others are removed from columns for the calculation for particular selected user.\n",
        "\"\"\"\n",
        "def filter_user_anime_matrix(user_anime_matrix, user_watched_anime_ids,\n",
        "                             similar_users_watched_anime_ids, similar_user_ids):\n",
        "\n",
        "    # Removing the animes watched by the user\n",
        "    user_anime_matrix_filtered = user_anime_matrix.drop(columns=user_watched_anime_ids, axis=1)\n",
        "\n",
        "    # Keeping only similar users in the filtered matrix\n",
        "    user_anime_matrix_filtered_sim = user_anime_matrix_filtered.loc[similar_user_ids]\n",
        "\n",
        "    # Keeping only animes that the similar users have watched\n",
        "    user_anime_matrix_filtered_sim = user_anime_matrix_filtered_sim[similar_users_watched_anime_ids]\n",
        "\n",
        "    return user_anime_matrix_filtered_sim\n"
      ],
      "metadata": {
        "id": "Eu5ky5zoS5PT"
      },
      "execution_count": 25,
      "outputs": []
    },
    {
      "cell_type": "code",
      "source": [
        "\"\"\"\n",
        "Function to find Precision@N, Recall@N and F1-Score@N for particular user\n",
        "The test dataframe is used to find out whether the recommendations in top N are relevant or not\n",
        "rating_threshold value is passed such that we consider if the user has rated >= rating_threshold and the\n",
        "anime is recommended, it falls into relevant recommended anime in the list.\n",
        "\"\"\"\n",
        "def evaluate_metrics_user(test_df, selected_user_id, rating_threshold, top_N_recommendations):\n",
        "\n",
        "    # Finds all the animes above the rating_threshold from test dataframe considering the user liked those animes\n",
        "    all_relevant_animes = test_df[(test_df['user_id'] == selected_user_id)\n",
        "                                  & (test_df['rating'] >= rating_threshold)]['anime_id'].values\n",
        "\n",
        "    total_recommendations = len(top_N_recommendations) # Total recommendations\n",
        "\n",
        "    # Find relevant recommendations in top_N list\n",
        "    relevant_recommendations = set(top_N_recommendations).intersection(all_relevant_animes)\n",
        "\n",
        "    # Calculate precision@N\n",
        "    if total_recommendations == 0 or len(relevant_recommendations) == 0:\n",
        "        precision_at_N = 0\n",
        "    else:\n",
        "        precision_at_N = len(relevant_recommendations) / total_recommendations\n",
        "\n",
        "\n",
        "    # Calculate Recall@N\n",
        "    if total_recommendations == 0 or len(relevant_recommendations) == 0:\n",
        "        recall_at_N = 0\n",
        "    else:\n",
        "        recall_at_N = len(all_relevant_animes) / len(relevant_recommendations)\n",
        "\n",
        "\n",
        "    # Calculate F1-score@N\n",
        "    if (precision_at_N + recall_at_N) == 0:\n",
        "        f1_score_at_N = 0\n",
        "    else:\n",
        "        f1_score_at_N = 2 * (precision_at_N * recall_at_N) / (precision_at_N + recall_at_N)\n",
        "\n",
        "\n",
        "    return precision_at_N, recall_at_N, f1_score_at_N\n",
        "\n",
        "\n",
        "\"\"\"\n",
        "Function to evaluate Average Precision@N\n",
        "The Average Precision@K or AP@K is the sum of precision@K where the item at the kₜₕ rank is\n",
        "relevant (rel(k)) divided by the total number of relevant items (r) in the top K recommendations\n",
        "\"\"\"\n",
        "def evaluate_average_precision_at_N(test_df, selected_user_id,\n",
        "                                    rating_threshold, top_N_recommendations):\n",
        "     # Finds all the animes above the rating_threshold from test dataframe considering the user liked those animes\n",
        "    all_relevant_animes = test_df[(test_df['user_id'] == selected_user_id)\n",
        "                                  & (test_df['rating'] >= rating_threshold)]['anime_id'].values\n",
        "\n",
        "    total_recommendations = len(top_N_recommendations) # Total recommendations\n",
        "\n",
        "    # Find relevant recommendations in top_N list\n",
        "    relevant_recommendations = set(top_N_recommendations).intersection(all_relevant_animes)\n",
        "\n",
        "    total_relevant_recommendations = len(relevant_recommendations) # Set the total number of relevant recommendations\n",
        "    total_precision = 0 # Set the total precision value to 0\n",
        "    relevant_anime_at_k = 0 # Set the number of relevant animes up to kth position\n",
        "\n",
        "    for i in range(len(top_N_recommendations)):\n",
        "        anime_rank = i + 1 # Set rank of anime as the loop starts from 0 index 1 is added\n",
        "\n",
        "        if top_N_recommendations[i] in relevant_recommendations:\n",
        "            relevant_anime_at_k += 1 # Relevant anime found, so increment count\n",
        "            total_precision += relevant_anime_at_k / anime_rank\n",
        "\n",
        "    if total_relevant_recommendations == 0:\n",
        "        return 0 # If there are no relevant recommendations\n",
        "\n",
        "    average_precision_at_N =  total_precision / total_relevant_recommendations\n",
        "\n",
        "    return average_precision_at_N\n"
      ],
      "metadata": {
        "id": "KQqyamj--HYX"
      },
      "execution_count": 26,
      "outputs": []
    },
    {
      "cell_type": "code",
      "source": [
        "# Function to calculate weighted anime predicted rating\n",
        "def calculate_anime_predicted_ratings(test_anime_id, selected_user_id):\n",
        "    if test_anime_id in user_anime_matrix:\n",
        "\n",
        "        users_anime_ratings = user_anime_matrix[test_anime_id]  # Filter user ratings in given anime_id\n",
        "\n",
        "        # Get the index of animes that are not rate by users i.e. having NaN values\n",
        "        not_rated_anime_index = users_anime_ratings[users_anime_ratings.isna()].index\n",
        "\n",
        "        # Drop the values in that consists of NaN values\n",
        "        users_anime_ratings = users_anime_ratings.dropna()\n",
        "\n",
        "        # Get cosine similarity weights of particular user ID with other users\n",
        "        cosine_weights = cosine_weights_df[selected_user_id]\n",
        "\n",
        "        # Remove the users from the similarity values that did not rate the given anime (test_anime_id\n",
        "        filtered_cosine_weights = cosine_weights.drop(not_rated_anime_index)\n",
        "\n",
        "        # Sort the similarity scores in descending order\n",
        "        sorted_cosine_weights = filtered_cosine_weights.sort_values(ascending=False)\n",
        "\n",
        "\n",
        "\n",
        "        # Using the top similar users value\n",
        "        top_similar_cosine_weights = sorted_cosine_weights[:top_N_similar_users]\n",
        "\n",
        "        # Aligning the index of anime ratings and cosine similarity weights in same order\n",
        "        # as it order was modified when sorting the cosine weights\n",
        "        users_anime_ratings_fix_index = users_anime_ratings.reindex(top_similar_cosine_weights.index)\n",
        "\n",
        "        # Calculate the predicted rating of anime using weighted cosine similarity, adding small value to avoid zero division\n",
        "        predicted_anime_rating = np.dot(users_anime_ratings_fix_index, top_similar_cosine_weights) / (top_similar_cosine_weights.sum() + 1e-6)\n",
        "\n",
        "\n",
        "        return round(predicted_anime_rating, 2)\n",
        "\n",
        "    else:\n",
        "        return 5 # Return mid value of rating range if anime values not present in training set\n"
      ],
      "metadata": {
        "id": "k8rEQcklMIkO"
      },
      "execution_count": 27,
      "outputs": []
    },
    {
      "cell_type": "code",
      "source": [
        "# Function to get top N recommendations for selected User ID\n",
        "def get_top_N_recommendations_cf(selected_user_id, printResult=None):\n",
        "\n",
        "    # Get cosine similarity weights of particular user ID with other users\n",
        "    cosine_weights = cosine_weights_df[selected_user_id]\n",
        "\n",
        "    # Remove own selected user cosine weights\n",
        "    filtered_cosine_weights = cosine_weights.drop(selected_user_id)\n",
        "\n",
        "    # Sort the cosine weights\n",
        "    sorted_cosine_weights = filtered_cosine_weights.sort_values(ascending=False)\n",
        "\n",
        "    # Get top N similar users\n",
        "    top_similar_users = sorted_cosine_weights[:top_N_similar_users]\n",
        "\n",
        "\n",
        "    # Find already watched animes by selected user\n",
        "    user_watched_anime_ids = already_watched_animes(train_df, selected_user_id)\n",
        "\n",
        "    similar_user_ids = top_similar_users.index.tolist() # Get similar user IDs\n",
        "\n",
        "    # Find watched animes by similar users\n",
        "    similar_users_watched_anime_ids = similar_users_watched_animes(train_df,similar_user_ids )\n",
        "\n",
        "    # Filter the anime IDs watched by similar users that is not watched by selected user_id\n",
        "    filtered_sim_users_watched_anime_ids = list(set(similar_users_watched_anime_ids) - set(user_watched_anime_ids))\n",
        "\n",
        "\n",
        "    anime_predicted_ratings = {} # Create a dictionary to store anime_ids and predicted ratings\n",
        "\n",
        "    # Loop through the anime_ids to get predicted ratings\n",
        "    for anime_id in filtered_sim_users_watched_anime_ids:\n",
        "        predicted_rating = calculate_anime_predicted_ratings(anime_id, selected_user_id)\n",
        "        anime_predicted_ratings[anime_id] = predicted_rating\n",
        "\n",
        "    # Sort the dictionary by predicted ratings in descending order\n",
        "    sorted_anime_ratings = dict(sorted(anime_predicted_ratings.items(), key=lambda item: item[1], reverse=True))\n",
        "\n",
        "    # Get the top N recommendations\n",
        "    top_N_recommendations = list(sorted_anime_ratings.keys())[:top_N_value]\n",
        "\n",
        "    # If printResult value set, display the result\n",
        "    if printResult:\n",
        "        print(f\"Top-{top_N_value} Anime Recommendations for User ID: {selected_user_id}\")\n",
        "\n",
        "        # Loop through the top N to print anime with anime details\n",
        "        for anime_id in top_N_recommendations:\n",
        "\n",
        "            # Finding  the row in anime dataframe matching given anime ID\n",
        "            anime_info = anime_df[anime_df['anime_id'] == anime_id]\n",
        "            print(f\"Anime ID: {anime_id}, Name: {anime_info['Name'].values[0]}, Genre: {anime_info['Genres'].values[0]}\" )\n",
        "\n",
        "    return top_N_recommendations\n",
        "\n",
        "\n",
        "# Function to evaluate Root Mean Squared Error (RMSE) of the recommender system\n",
        "def evaluate_memory_based_CF(test_df):\n",
        "\n",
        "    # Pair user_id and anime_id from the test dataframe\n",
        "    anime_user_pairs = zip(test_df['anime_id'], test_df['user_id'])\n",
        "\n",
        "    # Empty numpy array to store predicted ratings\n",
        "    predicted_ratings = np.array([])\n",
        "\n",
        "    # Loop through user and anime pairs to find the predicted rating\n",
        "    for anime_id, user_id in anime_user_pairs:\n",
        "        predicted_rating = calculate_anime_predicted_ratings(anime_id, user_id)\n",
        "        predicted_ratings = np.append(predicted_ratings, predicted_rating)\n",
        "\n",
        "    # Get the true ratings of anime\n",
        "    true_ratings = np.array(test_df['rating'])\n",
        "\n",
        "    # Calculate mean squared error\n",
        "    mse = np.square(np.subtract(true_ratings,predicted_ratings)).mean()\n",
        "\n",
        "    # Calculate root mean squared error\n",
        "    rmse = np.sqrt(mse)\n",
        "\n",
        "    # Calculate mean absolute error\n",
        "    mae = mean_absolute_error(true_ratings, predicted_ratings)\n",
        "\n",
        "    return rmse, mae"
      ],
      "metadata": {
        "id": "O0UN0QIDMLTY"
      },
      "execution_count": 28,
      "outputs": []
    },
    {
      "cell_type": "code",
      "source": [
        "# Build user anime matrix\n",
        "user_anime_matrix = create_user_anime_matrix(train_df)\n",
        "print(f\"User-Anime Matrix: \\n \\n {user_anime_matrix}\")"
      ],
      "metadata": {
        "colab": {
          "base_uri": "https://localhost:8080/"
        },
        "id": "R5ax5n6G-3IE",
        "outputId": "1bd933e4-6ec6-45e3-ed54-70afead5280c"
      },
      "execution_count": 29,
      "outputs": [
        {
          "output_type": "stream",
          "name": "stdout",
          "text": [
            "User-Anime Matrix: \n",
            " \n",
            " anime_id  1      5      6      7      8      15     16     17     18     \\\n",
            "user_id                                                                   \n",
            "1           NaN    NaN    NaN    NaN    NaN    NaN    NaN    NaN    NaN   \n",
            "3           9.0    NaN    NaN    NaN    NaN    NaN    NaN    NaN    8.0   \n",
            "4           NaN    NaN    NaN    NaN    NaN    NaN    9.0    NaN    NaN   \n",
            "18          8.0   10.0    NaN    NaN    NaN    NaN    NaN    NaN    NaN   \n",
            "20          NaN    NaN    NaN    NaN    NaN    NaN    NaN    NaN    NaN   \n",
            "...         ...    ...    ...    ...    ...    ...    ...    ...    ...   \n",
            "1989        NaN    NaN    NaN    NaN    NaN    NaN    NaN    NaN    NaN   \n",
            "1990        NaN    NaN    NaN    NaN    NaN    NaN    NaN    NaN    NaN   \n",
            "1994        NaN    NaN    NaN    NaN    NaN    NaN    NaN    NaN    NaN   \n",
            "1999        NaN    NaN    NaN    NaN    NaN    NaN    NaN    NaN    NaN   \n",
            "2000        NaN    NaN    NaN    NaN    NaN    9.0    NaN    NaN    9.0   \n",
            "\n",
            "anime_id  19     ...  47917  48316  48375  48413  48417  48418  48426  48438  \\\n",
            "user_id          ...                                                           \n",
            "1           9.0  ...    NaN    NaN    NaN    NaN    NaN    NaN    NaN    NaN   \n",
            "3           NaN  ...    NaN    NaN    NaN    NaN    NaN    NaN    NaN    NaN   \n",
            "4           NaN  ...    NaN    NaN    NaN    NaN    NaN    NaN    NaN    NaN   \n",
            "18          NaN  ...    NaN    NaN    NaN    NaN    NaN    NaN    NaN    NaN   \n",
            "20          NaN  ...    NaN    NaN    NaN    NaN    NaN    NaN    NaN    NaN   \n",
            "...         ...  ...    ...    ...    ...    ...    ...    ...    ...    ...   \n",
            "1989        NaN  ...    NaN    NaN    NaN    NaN    NaN    NaN    NaN    NaN   \n",
            "1990        NaN  ...    NaN    NaN    NaN    NaN    NaN    NaN    NaN    NaN   \n",
            "1994        NaN  ...    NaN    NaN    NaN    NaN    NaN    NaN    NaN    NaN   \n",
            "1999        NaN  ...    NaN    NaN    NaN    NaN    NaN    NaN    NaN    NaN   \n",
            "2000        NaN  ...    NaN    NaN    NaN    NaN    NaN    NaN    NaN    NaN   \n",
            "\n",
            "anime_id  48456  48483  \n",
            "user_id                 \n",
            "1           NaN    NaN  \n",
            "3           NaN    NaN  \n",
            "4           NaN    NaN  \n",
            "18          NaN    NaN  \n",
            "20          NaN    NaN  \n",
            "...         ...    ...  \n",
            "1989        NaN    NaN  \n",
            "1990        NaN    NaN  \n",
            "1994        NaN    NaN  \n",
            "1999        NaN    NaN  \n",
            "2000        NaN    NaN  \n",
            "\n",
            "[532 rows x 9965 columns]\n"
          ]
        }
      ]
    },
    {
      "cell_type": "code",
      "source": [
        "# Normalize user anime matrix\n",
        "user_anime_matrix_norm = normalize_user_anime_matrix(user_anime_matrix)\n",
        "print(f\"User-Anime Matrix (Normalized) : \\n \\n {user_anime_matrix_norm}\")"
      ],
      "metadata": {
        "colab": {
          "base_uri": "https://localhost:8080/"
        },
        "id": "HPlBhNIk_ec_",
        "outputId": "96fea8fa-1e4e-48be-8bbf-c61decd9c495"
      },
      "execution_count": 30,
      "outputs": [
        {
          "output_type": "stream",
          "name": "stdout",
          "text": [
            "User-Anime Matrix (Normalized) : \n",
            " \n",
            " anime_id     1         5         6         7         8         15     \\\n",
            "user_id                                                                \n",
            "1        -0.075966 -0.075966 -0.075966 -0.075966 -0.075966 -0.075966   \n",
            "3         8.801204 -0.198796 -0.198796 -0.198796 -0.198796 -0.198796   \n",
            "4        -0.075263 -0.075263 -0.075263 -0.075263 -0.075263 -0.075263   \n",
            "18        7.948721  9.948721 -0.051279 -0.051279 -0.051279 -0.051279   \n",
            "20       -0.052885 -0.052885 -0.052885 -0.052885 -0.052885 -0.052885   \n",
            "...            ...       ...       ...       ...       ...       ...   \n",
            "1989     -0.209433 -0.209433 -0.209433 -0.209433 -0.209433 -0.209433   \n",
            "1990      0.000000  0.000000  0.000000  0.000000  0.000000  0.000000   \n",
            "1994     -0.041545 -0.041545 -0.041545 -0.041545 -0.041545 -0.041545   \n",
            "1999     -0.080883 -0.080883 -0.080883 -0.080883 -0.080883 -0.080883   \n",
            "2000     -0.113999 -0.113999 -0.113999 -0.113999 -0.113999  8.886001   \n",
            "\n",
            "anime_id     16        17        18        19     ...     47917     48316  \\\n",
            "user_id                                           ...                       \n",
            "1        -0.075966 -0.075966 -0.075966  8.924034  ... -0.075966 -0.075966   \n",
            "3        -0.198796 -0.198796  7.801204 -0.198796  ... -0.198796 -0.198796   \n",
            "4         8.924737 -0.075263 -0.075263 -0.075263  ... -0.075263 -0.075263   \n",
            "18       -0.051279 -0.051279 -0.051279 -0.051279  ... -0.051279 -0.051279   \n",
            "20       -0.052885 -0.052885 -0.052885 -0.052885  ... -0.052885 -0.052885   \n",
            "...            ...       ...       ...       ...  ...       ...       ...   \n",
            "1989     -0.209433 -0.209433 -0.209433 -0.209433  ... -0.209433 -0.209433   \n",
            "1990      0.000000  0.000000  0.000000  0.000000  ...  0.000000  0.000000   \n",
            "1994     -0.041545 -0.041545 -0.041545 -0.041545  ... -0.041545 -0.041545   \n",
            "1999     -0.080883 -0.080883 -0.080883 -0.080883  ... -0.080883 -0.080883   \n",
            "2000     -0.113999 -0.113999  8.886001 -0.113999  ... -0.113999 -0.113999   \n",
            "\n",
            "anime_id     48375     48413     48417     48418     48426     48438  \\\n",
            "user_id                                                                \n",
            "1        -0.075966 -0.075966 -0.075966 -0.075966 -0.075966 -0.075966   \n",
            "3        -0.198796 -0.198796 -0.198796 -0.198796 -0.198796 -0.198796   \n",
            "4        -0.075263 -0.075263 -0.075263 -0.075263 -0.075263 -0.075263   \n",
            "18       -0.051279 -0.051279 -0.051279 -0.051279 -0.051279 -0.051279   \n",
            "20       -0.052885 -0.052885 -0.052885 -0.052885 -0.052885 -0.052885   \n",
            "...            ...       ...       ...       ...       ...       ...   \n",
            "1989     -0.209433 -0.209433 -0.209433 -0.209433 -0.209433 -0.209433   \n",
            "1990      0.000000  0.000000  0.000000  0.000000  0.000000  0.000000   \n",
            "1994     -0.041545 -0.041545 -0.041545 -0.041545 -0.041545 -0.041545   \n",
            "1999     -0.080883 -0.080883 -0.080883 -0.080883 -0.080883 -0.080883   \n",
            "2000     -0.113999 -0.113999 -0.113999 -0.113999 -0.113999 -0.113999   \n",
            "\n",
            "anime_id     48456     48483  \n",
            "user_id                       \n",
            "1        -0.075966 -0.075966  \n",
            "3        -0.198796 -0.198796  \n",
            "4        -0.075263 -0.075263  \n",
            "18       -0.051279 -0.051279  \n",
            "20       -0.052885 -0.052885  \n",
            "...            ...       ...  \n",
            "1989     -0.209433 -0.209433  \n",
            "1990      0.000000  0.000000  \n",
            "1994     -0.041545 -0.041545  \n",
            "1999     -0.080883 -0.080883  \n",
            "2000     -0.113999 -0.113999  \n",
            "\n",
            "[532 rows x 9965 columns]\n"
          ]
        }
      ]
    },
    {
      "cell_type": "code",
      "source": [
        "# Compute cosine similarity between users\n",
        "user_similarity = calculate_user_similarity(user_anime_matrix_norm)\n",
        "print(f\"Cosine Similarity Between Users : \\n \\n {user_similarity}\")"
      ],
      "metadata": {
        "colab": {
          "base_uri": "https://localhost:8080/"
        },
        "id": "b513AssW_ijI",
        "outputId": "3e0281cd-6459-4e3b-f0b6-29817e75c066"
      },
      "execution_count": 31,
      "outputs": [
        {
          "output_type": "stream",
          "name": "stdout",
          "text": [
            "Cosine Similarity Between Users : \n",
            " \n",
            " [[1.         0.09833276 0.02069884 ... 0.04456372 0.03746366 0.21648934]\n",
            " [0.09833276 1.         0.04284858 ... 0.11440025 0.14359554 0.09318438]\n",
            " [0.02069884 0.04284858 1.         ... 0.07640926 0.06473247 0.0754325 ]\n",
            " ...\n",
            " [0.04456372 0.11440025 0.07640926 ... 1.         0.05722207 0.00576629]\n",
            " [0.03746366 0.14359554 0.06473247 ... 0.05722207 1.         0.11198847]\n",
            " [0.21648934 0.09318438 0.0754325  ... 0.00576629 0.11198847 1.        ]]\n"
          ]
        }
      ]
    },
    {
      "cell_type": "code",
      "source": [
        "# Extracting user_ids as lists from user-anime matrix\n",
        "user_ids = user_anime_matrix_norm.index.tolist()\n",
        "\n",
        "# Normalize the cosine similarity values as they will be used to find weighted score for anime in recommedation\n",
        "normalized_user_similarity = normalize_user_similarity(user_similarity)\n",
        "print(f\"Similarity Between Users (Normalized) : \\n \\n {normalized_user_similarity}\")"
      ],
      "metadata": {
        "colab": {
          "base_uri": "https://localhost:8080/"
        },
        "id": "LhCbDDPQ_l2s",
        "outputId": "b3a4a697-7da3-40ac-c9b3-59fc0f0cd371"
      },
      "execution_count": 32,
      "outputs": [
        {
          "output_type": "stream",
          "name": "stdout",
          "text": [
            "Similarity Between Users (Normalized) : \n",
            " \n",
            " [[1.         0.14609197 0.07257013 ... 0.09517095 0.08844696 0.25799007]\n",
            " [0.14609197 1.         0.09354666 ... 0.1613084  0.18895729 0.14121628]\n",
            " [0.07257013 0.09354666 1.         ... 0.12532971 0.1142714  0.12440468]\n",
            " ...\n",
            " [0.09517095 0.1613084  0.12532971 ... 1.         0.10715882 0.05842852]\n",
            " [0.08844696 0.18895729 0.1142714  ... 0.10715882 1.         0.15902437]\n",
            " [0.25799007 0.14121628 0.12440468 ... 0.05842852 0.15902437 1.        ]]\n"
          ]
        }
      ]
    },
    {
      "cell_type": "code",
      "source": [
        "# Map the normalized similarity between users indicating user_ids creating a dataframe\n",
        "cosine_weights_df = create_df_norm_user_similarity(normalized_user_similarity, user_ids)\n",
        "print(f\"Map (Normalized) Simlarity Values with User IDs \\nCosine Similarity Dataframe (Normalized) : \\n \\n {cosine_weights_df}\")"
      ],
      "metadata": {
        "colab": {
          "base_uri": "https://localhost:8080/"
        },
        "id": "tIQFGqA5_res",
        "outputId": "d3ad6a20-daec-4745-ee96-4ad9935396b3"
      },
      "execution_count": 33,
      "outputs": [
        {
          "output_type": "stream",
          "name": "stdout",
          "text": [
            "Map (Normalized) Simlarity Values with User IDs \n",
            "Cosine Similarity Dataframe (Normalized) : \n",
            " \n",
            "           1         3         4         18        20        23        36    \\\n",
            "1     1.000000  0.146092  0.072570  0.136390  0.312849  0.177013  0.074568   \n",
            "3     0.146092  1.000000  0.093547  0.155677  0.134679  0.130802  0.194459   \n",
            "4     0.072570  0.093547  1.000000  0.178666  0.045362  0.099559  0.113349   \n",
            "18    0.136390  0.155677  0.178666  1.000000  0.130003  0.185005  0.109525   \n",
            "20    0.312849  0.134679  0.045362  0.130003  1.000000  0.095241  0.076931   \n",
            "...        ...       ...       ...       ...       ...       ...       ...   \n",
            "1989  0.219142  0.292532  0.058266  0.112368  0.143210  0.096373  0.094070   \n",
            "1990  0.052968  0.052968  0.052968  0.052968  0.052968  0.052968  0.052968   \n",
            "1994  0.095171  0.161308  0.125330  0.066653  0.047618  0.094764  0.162336   \n",
            "1999  0.088447  0.188957  0.114271  0.098475  0.069123  0.095231  0.140102   \n",
            "2000  0.257990  0.141216  0.124405  0.196644  0.199294  0.154259  0.074864   \n",
            "\n",
            "          47        53        66    ...      1974      1975      1979  \\\n",
            "1     0.276972  0.121128  0.077402  ...  0.230568  0.089994  0.139324   \n",
            "3     0.273415  0.163523  0.066011  ...  0.185271  0.090302  0.111689   \n",
            "4     0.113066  0.238053  0.094068  ...  0.074193  0.087100  0.100440   \n",
            "18    0.169594  0.183638  0.135856  ...  0.223161  0.161057  0.110502   \n",
            "20    0.259708  0.089080  0.088220  ...  0.130833  0.075790  0.146723   \n",
            "...        ...       ...       ...  ...       ...       ...       ...   \n",
            "1989  0.287991  0.120235  0.090478  ...  0.125739  0.077976  0.136039   \n",
            "1990  0.052968  0.052968  0.052968  ...  0.052968  0.052968  0.052968   \n",
            "1994  0.129625  0.087278  0.064037  ...  0.088689  0.049565  0.112263   \n",
            "1999  0.208343  0.159973  0.096649  ...  0.103770  0.165187  0.072095   \n",
            "2000  0.307207  0.203985  0.125868  ...  0.189904  0.174961  0.110393   \n",
            "\n",
            "          1980      1988      1989      1990      1994      1999      2000  \n",
            "1     0.215810  0.249186  0.219142  0.052968  0.095171  0.088447  0.257990  \n",
            "3     0.352273  0.269174  0.292532  0.052968  0.161308  0.188957  0.141216  \n",
            "4     0.103140  0.063876  0.058266  0.052968  0.125330  0.114271  0.124405  \n",
            "18    0.227523  0.190638  0.112368  0.052968  0.066653  0.098475  0.196644  \n",
            "20    0.198620  0.177262  0.143210  0.052968  0.047618  0.069123  0.199294  \n",
            "...        ...       ...       ...       ...       ...       ...       ...  \n",
            "1989  0.258671  0.203401  1.000000  0.052968  0.109626  0.151644  0.231237  \n",
            "1990  0.052968  0.052968  0.052968  0.052968  0.052968  0.052968  0.052968  \n",
            "1994  0.117450  0.083716  0.109626  0.052968  1.000000  0.107159  0.058429  \n",
            "1999  0.180440  0.112492  0.151644  0.052968  0.107159  1.000000  0.159024  \n",
            "2000  0.193895  0.186896  0.231237  0.052968  0.058429  0.159024  1.000000  \n",
            "\n",
            "[532 rows x 532 columns]\n"
          ]
        }
      ]
    },
    {
      "cell_type": "code",
      "source": [
        "top_N_value = 20 # Set the value to return top N recommendations\n",
        "top_N_similar_users = 50 # Set the value to find N similary users\n",
        "\n",
        "user_anime_matrix# Evaluate the user based collaborative filtering\n",
        "rmse, mae = evaluate_memory_based_CF(test_df)\n"
      ],
      "metadata": {
        "id": "FU-rWAmxMdSA"
      },
      "execution_count": 34,
      "outputs": []
    },
    {
      "cell_type": "code",
      "source": [
        "print(\"Evaluation Metrics for User Based Collaborative Filtering\")\n",
        "print(f\"Root Mean Squared Error (RMSE): {rmse:.4f}\")\n",
        "print(f\"Mean Absolute Error (MAE): {mae:.4f}\")"
      ],
      "metadata": {
        "colab": {
          "base_uri": "https://localhost:8080/"
        },
        "id": "XB0WByGwXKcA",
        "outputId": "e0a1ec73-3282-47e9-e9f5-92464fc173e7"
      },
      "execution_count": 35,
      "outputs": [
        {
          "output_type": "stream",
          "name": "stdout",
          "text": [
            "Evaluation Metrics for User Based Collaborative Filtering\n",
            "Root Mean Squared Error (RMSE): 3.7747\n",
            "Mean Absolute Error (MAE): 3.2810\n"
          ]
        }
      ]
    },
    {
      "cell_type": "markdown",
      "source": [
        "**For the purpose of demonstrating the working of functions,\n",
        "we select one user_id and show all the evaluation for better understanding of the process.**"
      ],
      "metadata": {
        "id": "D28E-RsQ_wSX"
      }
    },
    {
      "cell_type": "code",
      "source": [
        "selected_user_id = 636 # Select a random user id to demonstrate the process for all the users\n",
        "selected_anime_id = 1085 # Select a anime id to get the predicted ratings\n",
        "predicted_rating = calculate_anime_predicted_ratings(selected_anime_id, selected_user_id) # Calculate anime predicted ratings\n",
        "print(f\"Predicted Rating: {predicted_rating}\")"
      ],
      "metadata": {
        "colab": {
          "base_uri": "https://localhost:8080/"
        },
        "id": "Ytd9BkJi_zMV",
        "outputId": "c8b1e9f0-f322-4f23-9f60-9c097ecda5c6"
      },
      "execution_count": 36,
      "outputs": [
        {
          "output_type": "stream",
          "name": "stdout",
          "text": [
            "Predicted Rating: 3.71\n"
          ]
        }
      ]
    },
    {
      "cell_type": "code",
      "source": [
        "# Get the top-N recommendations for selected user ID\n",
        "top_N_recommendations = get_top_N_recommendations_cf(selected_user_id, printResult = True)"
      ],
      "metadata": {
        "id": "-mObEc6aMi82",
        "colab": {
          "base_uri": "https://localhost:8080/"
        },
        "outputId": "cdbe78d0-60e2-4133-ca67-80409db501a6"
      },
      "execution_count": 37,
      "outputs": [
        {
          "output_type": "stream",
          "name": "stdout",
          "text": [
            "Top-20 Anime Recommendations for User ID: 636\n",
            "Anime ID: 1455, Name: Makai Tenshou, Genre: Action, Supernatural, Samurai, Historical\n",
            "Anime ID: 683, Name: Otogi Story Tenshi no Shippo Specials, Genre: Comedy, Fantasy, Magic, Romance\n",
            "Anime ID: 2327, Name: Kyouhaku: Owaranai Ashita, Genre: Hentai\n",
            "Anime ID: 1929, Name: Futari wa Precure: Max Heart, Genre: Action, Comedy, Fantasy, Magic, Shoujo\n",
            "Anime ID: 2597, Name: Detective Conan OVA 07: A Challenge from Agasa! Agasa vs. Conan and the Detective Boys, Genre: Adventure, Police, Comedy, Mystery, Shounen\n",
            "Anime ID: 1039, Name: Mizuiro (2003), Genre: Romance, Supernatural, Drama\n",
            "Anime ID: 2904, Name: Code Geass: Hangyaku no Lelouch R2, Genre: Action, Military, Sci-Fi, Super Power, Drama, Mecha\n",
            "Anime ID: 265, Name: Hajime no Ippo: Mashiba vs. Kimura, Genre: Comedy, Sports, Shounen\n",
            "Anime ID: 1053, Name: Tokyo Daigaku Monogatari, Genre: Comedy, Drama, Ecchi, Romance, School\n",
            "Anime ID: 2454, Name: Kimagure Orange☆Road: Ano Hi ni Kaeritai, Genre: Comedy, Drama, Romance, Shounen, Slice of Life\n",
            "Anime ID: 6794, Name: Kurokami: Tora to Tsubasa, Genre: Action, Super Power, Martial Arts, Seinen\n",
            "Anime ID: 2346, Name: Koroshiya 1 The Animation: Episode 0, Genre: Action, Dementia, Drama, Horror, Martial Arts, Psychological, Seinen\n",
            "Anime ID: 91, Name: Mobile Suit Gundam Wing: Endless Waltz, Genre: Action, Drama, Mecha, Military, Sci-Fi, Space\n",
            "Anime ID: 23043, Name: Re Boot, Genre: Drama, Music, School, Slice of Life\n",
            "Anime ID: 6438, Name: Detective Conan OVA 09: The Stranger in 10 Years..., Genre: Adventure, Comedy, Mystery, Police, Shounen\n",
            "Anime ID: 386, Name: H2, Genre: Comedy, Sports, Romance, Shounen\n",
            "Anime ID: 625, Name: Moekan The Animation, Genre: Comedy, Romance\n",
            "Anime ID: 1368, Name: Detective Conan OVA 06: Follow the Vanished Diamond! Conan & Heiji vs. Kid!, Genre: Police, Comedy, Mystery, Shounen\n",
            "Anime ID: 1898, Name: Hikari to Mizu no Daphne Specials, Genre: Action, Ecchi, Comedy\n",
            "Anime ID: 2109, Name: Rockman.EXE Stream, Genre: Action, Adventure, Game, Mecha, School, Sci-Fi, Shounen\n"
          ]
        }
      ]
    },
    {
      "cell_type": "code",
      "source": [
        "rating_threshold = 2 # This threshold is set to consider anime_ids in test set as relevant to particular user or not\n",
        "\n",
        "# Evaluate the performance of recommendation for particular user\n",
        "precision_at_N, recall_at_N, f1_score_at_N = evaluate_metrics_user(test_df,\n",
        "                                                                   selected_user_id,\n",
        "                                                                   rating_threshold, top_N_recommendations)\n",
        "\n",
        "# Evaluate averate precision at N\n",
        "average_precision_at_N = evaluate_average_precision_at_N(test_df, selected_user_id,\n",
        "                                    rating_threshold, top_N_recommendations)\n",
        "print(f\"Evaluation Metrics for User ID: {selected_user_id}\")\n",
        "print(f\"Precision@{top_N_value}: {precision_at_N}\")\n",
        "print(f\"Recall@{top_N_value}: {recall_at_N}\")\n",
        "print(f\"F1_Score@{top_N_value}: {f1_score_at_N}\")\n",
        "print(f\"Average Precision@{top_N_value}: {average_precision_at_N}\")"
      ],
      "metadata": {
        "colab": {
          "base_uri": "https://localhost:8080/"
        },
        "id": "AG-Rm9f8_4ZN",
        "outputId": "52f98e0a-8c3a-4b51-85bc-d88ae614b26d"
      },
      "execution_count": 38,
      "outputs": [
        {
          "output_type": "stream",
          "name": "stdout",
          "text": [
            "Evaluation Metrics for User ID: 636\n",
            "Precision@20: 0\n",
            "Recall@20: 0\n",
            "F1_Score@20: 0\n",
            "Average Precision@20: 0\n"
          ]
        }
      ]
    },
    {
      "cell_type": "code",
      "source": [
        "# Get unique user IDs in train data\n",
        "train_df_user_ids = train_df['user_id'].unique()\n",
        "total_users = len(train_df_user_ids) # Set the total number of users\n",
        "print(f\"User IDs: {train_df_user_ids}\")"
      ],
      "metadata": {
        "colab": {
          "base_uri": "https://localhost:8080/"
        },
        "id": "9jSiv4Gv_65n",
        "outputId": "3441f071-d443-412a-be5c-902cdfd0df7b"
      },
      "execution_count": 39,
      "outputs": [
        {
          "output_type": "stream",
          "name": "stdout",
          "text": [
            "User IDs: [1079  120  357 1839 1941 1570  683  478 1245  346  425 1162 1554 1700\n",
            "  327  399  720  906 1393   47  818 1957  549 1407  368 1934 1105 1231\n",
            " 1514 1988  748   23 1863 1621  860 1324 1350 1540 1966 1600 1396 1994\n",
            " 1048 1671 1493 1817 1852  916 1697 1115 1475  921  859 1470 1047 1330\n",
            " 1878  994 1975  973 1529 1371 1783   71 1183 1453 1775  417  901 1184\n",
            "  436 1958  274 1207  995  631 1491 1147 1376  836  111 1953  730 1150\n",
            "  652 1073  500 1561 1631  912 1273 1209 1036 1925 1498 1437 1869 1363\n",
            "  375 1016 1090 1971  721 2000 1125  432  779 1353 1045  925 1356 1989\n",
            "  112  571 1961 1496 1937 1170 1244  310 1629  222 1072 1046  527  374\n",
            " 1860  467 1310 1609  108 1801 1509  709 1793 1679 1760  529  989 1886\n",
            " 1792  608 1537 1912  849 1582 1487 1285  734 1813 1197  532 1240 1696\n",
            " 1650 1742   66 1897  943 1542 1191 1593  614  341 1800 1436  280  870\n",
            "  476 1397 1962  119 1728  762 1419 1933  753 1531 1340 1690  359 1523\n",
            "  986  592 1439  619  157 1911  642 1492 1318 1299 1849  871 1185   91\n",
            " 1879 1640   82 1824 1008   90 1947  564  458  615  508 1031  567  791\n",
            "  728  754 1418  882  945 1862 1778  227  902  843 1488 1592 1875  954\n",
            "  678 1384  854  208  903 1874  848 1116  559    3 1822 1144 1316  595\n",
            " 1117  960  757   53 1377 1077  932 1730 1632 1858  635 1314 1969 1967\n",
            " 1842 1551  255  554 1204  483 1910  558 1145 1212 1400  407  473 1438\n",
            " 1568 1916 1331 1898 1891 1456 1754  869  967  576 1606 1480 1201 1719\n",
            "  431  756  935 1359  376 1619  426 1196 1293  224 1342  749  767  560\n",
            "  596 1395  138 1483 1499  803  831 1901    1 1300 1394  272  228  815\n",
            "  675 1226  689  988 1850 1133  776  524 1383  840 1525 1762  428 1471\n",
            "  185 1276 1020  966  736  433 1847 1672 1906 1544 1135 1765  648  607\n",
            " 1620  722  658 1668   20  618 1759  480 1445 1714 1667 1085 1420  711\n",
            " 1617  143 1654  390  632 1580  254 1215 1853 1717  877  784  706 1464\n",
            "  514  530 1250 1841  861  162 1014 1980  760   18  507 1882 1157 1111\n",
            " 1979  258 1132  347 1637 1295  651  561  789  336  874 1695 1722    4\n",
            "  526 1313  292  163  545 1017  499  410  891 1294 1845 1625 1543 1136\n",
            " 1040 1926 1035  847 1526 1990 1272  225 1205  297 1670 1547  695  331\n",
            "  491 1176  616 1280 1613 1918  657 1522 1669 1836  598  817  713 1252\n",
            " 1877 1211  575 1924  638 1337 1732 1013 1490  886  496 1243  223  450\n",
            " 1083 1855 1614  344  338  268  949 1484  813 1952 1959 1774  133   36\n",
            "  401  229 1828 1562 1301 1859  868  553  512  701 1321 1890 1945  677\n",
            " 1503 1408  852  797 1703 1390 1745  971  691  636   70 1527 1661 1446\n",
            " 1939 1814  766 1826  562 1087  277  356 1078  835  863 1595 1974 1341\n",
            " 1805  910 1075  169 1442 1970  540  579  962  504 1521 1251 1228 1081\n",
            " 1999  687  946 1051 1328 1055 1068 1229  928  750  634 1486 1691  282]\n"
          ]
        }
      ]
    },
    {
      "cell_type": "code",
      "source": [
        "\n",
        "# Function to calcuate the average total precision\n",
        "def calculate_total_avg_precision(train_df_user_ids, rating_threshold):\n",
        "    # Set the total average precision at N value 0, it will be used to calculate Mean Average Precision@MAP\n",
        "    total_average_precision_at_N = 0\n",
        "\n",
        "    for selected_user_id in train_df_user_ids[:5]: # remove this when running for final time\n",
        "\n",
        "\n",
        "        # Calculate top N recommendations for selected user\n",
        "        top_N_recommendations = get_top_N_recommendations_cf(selected_user_id)\n",
        "\n",
        "        # Evaluate the average precision at N of recommendation for particular user\n",
        "        average_precision_at_N = evaluate_average_precision_at_N(test_df, selected_user_id,\n",
        "                                        rating_threshold, top_N_recommendations)\n",
        "        # Add to total scores\n",
        "        total_average_precision_at_N += average_precision_at_N\n",
        "\n",
        "    return total_average_precision_at_N\n",
        "\n",
        "rating_threshold = 5\n",
        "# Calculate total average precision\n",
        "result_total = calculate_total_avg_precision(train_df_user_ids, rating_threshold)\n",
        "# Calcualate mean average precision @N\n",
        "mean_average_precision_at_N = result_total / total_users\n",
        "\n",
        "\n",
        "print(\"MAP@N Evaluation of User Based Collaborative Filtering\")\n",
        "print(f\"Evaluation Metrics\")\n",
        "print(f\"Mean Average Precision@{top_N_value} Over {total_users} users (Rating Threshold-{rating_threshold}): {mean_average_precision_at_N:4f}\")\n",
        "\n",
        "rating_threshold = 8\n",
        "# Calculate total average precision\n",
        "result_total = calculate_total_avg_precision(train_df_user_ids, rating_threshold)\n",
        "# Calcualate mean average precision @N\n",
        "mean_average_precision_at_N = result_total / total_users\n",
        "print(f\"Mean Average Precision@{top_N_value} Over {total_users} users (Rating Threshold-{rating_threshold}): {mean_average_precision_at_N:4f}\")\n",
        "\n",
        "rating_threshold = 6\n",
        "# Calculate total average precision\n",
        "result_total = calculate_total_avg_precision(train_df_user_ids, rating_threshold)\n",
        "# Calcualate mean average precision @N\n",
        "mean_average_precision_at_N = result_total / total_users\n",
        "print(f\"Mean Average Precision@{top_N_value} Over {total_users} users (Rating Threshold-{rating_threshold}): {mean_average_precision_at_N:4f}\")\n",
        "\n",
        "rating_threshold = 4\n",
        "# Calculate total average precision\n",
        "result_total = calculate_total_avg_precision(train_df_user_ids, rating_threshold)\n",
        "# Calcualate mean average precision @N\n",
        "mean_average_precision_at_N = result_total / total_users\n",
        "print(f\"Mean Average Precision@{top_N_value} Over {total_users} users (Rating Threshold-{rating_threshold}): {mean_average_precision_at_N:4f}\")\n",
        "\n"
      ],
      "metadata": {
        "id": "REoEyaKbADHh",
        "colab": {
          "base_uri": "https://localhost:8080/"
        },
        "outputId": "5fd40262-9bb3-4fb0-d130-256c8239d7ab"
      },
      "execution_count": 40,
      "outputs": [
        {
          "output_type": "stream",
          "name": "stdout",
          "text": [
            "MAP@N Evaluation of User Based Collaborative Filtering\n",
            "Evaluation Metrics\n",
            "Mean Average Precision@20 Over 532 users (Rating Threshold-5): 0.001341\n",
            "Mean Average Precision@20 Over 532 users (Rating Threshold-8): 0.001341\n",
            "Mean Average Precision@20 Over 532 users (Rating Threshold-6): 0.001341\n",
            "Mean Average Precision@20 Over 532 users (Rating Threshold-4): 0.001341\n"
          ]
        }
      ]
    },
    {
      "cell_type": "markdown",
      "source": [
        "# Item based Collaborative Filtering"
      ],
      "metadata": {
        "id": "3PzR11frKyet"
      }
    },
    {
      "cell_type": "markdown",
      "source": [
        " We implement an item-based collaborative filtering algorithm to recommend animes to users based on their historical ratings. This method assumes that if a user liked a particular item, they will also like other items similar to it.\n",
        "\n",
        "### **Steps Involved:**\n",
        "\n",
        "1.   **Create Item-User Matrix:** We transpose the user-item matrix to create an item-user matrix where rows correspond to items (animes) and columns correspond to users.\n",
        "2.   **Normalize Item-User Matrix:** We normalize the ratings in the item-user matrix by subtracting the average rating for each item. This helps to mitigate the effect of different rating scales used by different users.\n",
        "3.   **Compute Item Similarity Matrix:** We calculate the cosine similarity between items based on their ratings patterns. The result is a symmetric matrix where each element represents the similarity score between two items.\n",
        "4.  **Predict Ratings:** For a given user, we predict ratings for items they haven't rated yet. The prediction is a weighted average of the user's ratings, weighted by the similarity scores of the items.\n",
        "5.   **Generate Recommendations:** We recommend new items to the user by selecting the items with the highest predicted ratings that the user hasn't rated yet.\n",
        "\n",
        "\n",
        "\n",
        "\n",
        "\n"
      ],
      "metadata": {
        "id": "hDoHh4nyDdgE"
      }
    },
    {
      "cell_type": "markdown",
      "source": [
        "\n",
        "\n",
        "*   Cosine Similarity\n",
        "\n"
      ],
      "metadata": {
        "id": "ClrxmXfDfiHt"
      }
    },
    {
      "cell_type": "code",
      "source": [
        "\n",
        "# Step 1: Create item-user matrix\n",
        "item_user_matrix = user_anime_matrix.T\n",
        "\n",
        "# Step 2: Normalize the item-user matrix\n",
        "item_avg_ratings = item_user_matrix.mean(axis=1)\n",
        "item_user_matrix_norm = item_user_matrix.sub(item_avg_ratings, axis=0)\n",
        "\n",
        "# Step 3: Calculate the item similarity matrix\n",
        "item_similarity = cosine_similarity(item_user_matrix_norm.fillna(0))\n",
        "item_similarity_df = pd.DataFrame(item_similarity, index=item_user_matrix.index, columns=item_user_matrix.index)\n",
        "\n",
        "# Step 4: Predict ratings *   List itemfor a given user\n",
        "def predict_ratings(user_id, item_user_matrix, item_similarity_df):\n",
        "    user_ratings = item_user_matrix[user_id]\n",
        "    user_unrated_items = user_ratings[user_ratings.isnull()]\n",
        "    predictions = {}\n",
        "\n",
        "    for item_id in user_unrated_items.index:\n",
        "        # Compute the weighted average of ratings for the current item\n",
        "        weighted_sum = 0\n",
        "        similarity_sum = 0\n",
        "        for other_item_id in item_user_matrix.index:\n",
        "            if pd.notnull(user_ratings[other_item_id]):\n",
        "                weighted_sum += item_similarity_df[item_id][other_item_id] * user_ratings[other_item_id]\n",
        "                similarity_sum += abs(item_similarity_df[item_id][other_item_id])\n",
        "\n",
        "        if similarity_sum != 0:\n",
        "            predicted_rating = weighted_sum / similarity_sum\n",
        "        else:\n",
        "            predicted_rating = item_avg_ratings[item_id]\n",
        "\n",
        "        predictions[item_id] = predicted_rating\n",
        "\n",
        "    return predictions\n",
        "\n",
        "# Step 5: Generate recommendations for a given user\n",
        "def recommend_items(user_id, item_user_matrix, item_similarity_df, n_recommendations=5):\n",
        "    predictions = predict_ratings(user_id, item_user_matrix, item_similarity_df)\n",
        "    sorted_predictions = sorted(predictions.items(), key=lambda x: x[1], reverse=True)\n",
        "    return sorted_predictions[:n_recommendations]\n",
        "\n"
      ],
      "metadata": {
        "id": "AmC3_iGK9E_t"
      },
      "execution_count": 43,
      "outputs": []
    },
    {
      "cell_type": "code",
      "source": [
        "# Example usage\n",
        "user_id = 6\n",
        "recommendations = recommend_items(user_id, item_user_matrix, item_similarity_df)\n",
        "print(f\"Top {len(recommendations)} recommendations for User {user_id}: {recommendations}\")"
      ],
      "metadata": {
        "colab": {
          "base_uri": "https://localhost:8080/",
          "height": 531
        },
        "id": "EkEKYO6ffGdL",
        "outputId": "69801124-5337-4108-c1a3-4c4752896c42"
      },
      "execution_count": 44,
      "outputs": [
        {
          "output_type": "error",
          "ename": "KeyError",
          "evalue": "ignored",
          "traceback": [
            "\u001b[0;31m---------------------------------------------------------------------------\u001b[0m",
            "\u001b[0;31mKeyError\u001b[0m                                  Traceback (most recent call last)",
            "\u001b[0;32m/usr/local/lib/python3.10/dist-packages/pandas/core/indexes/base.py\u001b[0m in \u001b[0;36mget_loc\u001b[0;34m(self, key, method, tolerance)\u001b[0m\n\u001b[1;32m   3801\u001b[0m             \u001b[0;32mtry\u001b[0m\u001b[0;34m:\u001b[0m\u001b[0;34m\u001b[0m\u001b[0;34m\u001b[0m\u001b[0m\n\u001b[0;32m-> 3802\u001b[0;31m                 \u001b[0;32mreturn\u001b[0m \u001b[0mself\u001b[0m\u001b[0;34m.\u001b[0m\u001b[0m_engine\u001b[0m\u001b[0;34m.\u001b[0m\u001b[0mget_loc\u001b[0m\u001b[0;34m(\u001b[0m\u001b[0mcasted_key\u001b[0m\u001b[0;34m)\u001b[0m\u001b[0;34m\u001b[0m\u001b[0;34m\u001b[0m\u001b[0m\n\u001b[0m\u001b[1;32m   3803\u001b[0m             \u001b[0;32mexcept\u001b[0m \u001b[0mKeyError\u001b[0m \u001b[0;32mas\u001b[0m \u001b[0merr\u001b[0m\u001b[0;34m:\u001b[0m\u001b[0;34m\u001b[0m\u001b[0;34m\u001b[0m\u001b[0m\n",
            "\u001b[0;32m/usr/local/lib/python3.10/dist-packages/pandas/_libs/index.pyx\u001b[0m in \u001b[0;36mpandas._libs.index.IndexEngine.get_loc\u001b[0;34m()\u001b[0m\n",
            "\u001b[0;32m/usr/local/lib/python3.10/dist-packages/pandas/_libs/index.pyx\u001b[0m in \u001b[0;36mpandas._libs.index.IndexEngine.get_loc\u001b[0;34m()\u001b[0m\n",
            "\u001b[0;32mpandas/_libs/hashtable_class_helper.pxi\u001b[0m in \u001b[0;36mpandas._libs.hashtable.Int64HashTable.get_item\u001b[0;34m()\u001b[0m\n",
            "\u001b[0;32mpandas/_libs/hashtable_class_helper.pxi\u001b[0m in \u001b[0;36mpandas._libs.hashtable.Int64HashTable.get_item\u001b[0;34m()\u001b[0m\n",
            "\u001b[0;31mKeyError\u001b[0m: 6",
            "\nThe above exception was the direct cause of the following exception:\n",
            "\u001b[0;31mKeyError\u001b[0m                                  Traceback (most recent call last)",
            "\u001b[0;32m<ipython-input-44-4cb455b39b6e>\u001b[0m in \u001b[0;36m<cell line: 3>\u001b[0;34m()\u001b[0m\n\u001b[1;32m      1\u001b[0m \u001b[0;31m# Example usage\u001b[0m\u001b[0;34m\u001b[0m\u001b[0;34m\u001b[0m\u001b[0m\n\u001b[1;32m      2\u001b[0m \u001b[0muser_id\u001b[0m \u001b[0;34m=\u001b[0m \u001b[0;36m6\u001b[0m\u001b[0;34m\u001b[0m\u001b[0;34m\u001b[0m\u001b[0m\n\u001b[0;32m----> 3\u001b[0;31m \u001b[0mrecommendations\u001b[0m \u001b[0;34m=\u001b[0m \u001b[0mrecommend_items\u001b[0m\u001b[0;34m(\u001b[0m\u001b[0muser_id\u001b[0m\u001b[0;34m,\u001b[0m \u001b[0mitem_user_matrix\u001b[0m\u001b[0;34m,\u001b[0m \u001b[0mitem_similarity_df\u001b[0m\u001b[0;34m)\u001b[0m\u001b[0;34m\u001b[0m\u001b[0;34m\u001b[0m\u001b[0m\n\u001b[0m\u001b[1;32m      4\u001b[0m \u001b[0mprint\u001b[0m\u001b[0;34m(\u001b[0m\u001b[0;34mf\"Top {len(recommendations)} recommendations for User {user_id}: {recommendations}\"\u001b[0m\u001b[0;34m)\u001b[0m\u001b[0;34m\u001b[0m\u001b[0;34m\u001b[0m\u001b[0m\n",
            "\u001b[0;32m<ipython-input-43-1766afb2da31>\u001b[0m in \u001b[0;36mrecommend_items\u001b[0;34m(user_id, item_user_matrix, item_similarity_df, n_recommendations)\u001b[0m\n\u001b[1;32m     36\u001b[0m \u001b[0;31m# Step 5: Generate recommendations for a given user\u001b[0m\u001b[0;34m\u001b[0m\u001b[0;34m\u001b[0m\u001b[0m\n\u001b[1;32m     37\u001b[0m \u001b[0;32mdef\u001b[0m \u001b[0mrecommend_items\u001b[0m\u001b[0;34m(\u001b[0m\u001b[0muser_id\u001b[0m\u001b[0;34m,\u001b[0m \u001b[0mitem_user_matrix\u001b[0m\u001b[0;34m,\u001b[0m \u001b[0mitem_similarity_df\u001b[0m\u001b[0;34m,\u001b[0m \u001b[0mn_recommendations\u001b[0m\u001b[0;34m=\u001b[0m\u001b[0;36m5\u001b[0m\u001b[0;34m)\u001b[0m\u001b[0;34m:\u001b[0m\u001b[0;34m\u001b[0m\u001b[0;34m\u001b[0m\u001b[0m\n\u001b[0;32m---> 38\u001b[0;31m     \u001b[0mpredictions\u001b[0m \u001b[0;34m=\u001b[0m \u001b[0mpredict_ratings\u001b[0m\u001b[0;34m(\u001b[0m\u001b[0muser_id\u001b[0m\u001b[0;34m,\u001b[0m \u001b[0mitem_user_matrix\u001b[0m\u001b[0;34m,\u001b[0m \u001b[0mitem_similarity_df\u001b[0m\u001b[0;34m)\u001b[0m\u001b[0;34m\u001b[0m\u001b[0;34m\u001b[0m\u001b[0m\n\u001b[0m\u001b[1;32m     39\u001b[0m     \u001b[0msorted_predictions\u001b[0m \u001b[0;34m=\u001b[0m \u001b[0msorted\u001b[0m\u001b[0;34m(\u001b[0m\u001b[0mpredictions\u001b[0m\u001b[0;34m.\u001b[0m\u001b[0mitems\u001b[0m\u001b[0;34m(\u001b[0m\u001b[0;34m)\u001b[0m\u001b[0;34m,\u001b[0m \u001b[0mkey\u001b[0m\u001b[0;34m=\u001b[0m\u001b[0;32mlambda\u001b[0m \u001b[0mx\u001b[0m\u001b[0;34m:\u001b[0m \u001b[0mx\u001b[0m\u001b[0;34m[\u001b[0m\u001b[0;36m1\u001b[0m\u001b[0;34m]\u001b[0m\u001b[0;34m,\u001b[0m \u001b[0mreverse\u001b[0m\u001b[0;34m=\u001b[0m\u001b[0;32mTrue\u001b[0m\u001b[0;34m)\u001b[0m\u001b[0;34m\u001b[0m\u001b[0;34m\u001b[0m\u001b[0m\n\u001b[1;32m     40\u001b[0m     \u001b[0;32mreturn\u001b[0m \u001b[0msorted_predictions\u001b[0m\u001b[0;34m[\u001b[0m\u001b[0;34m:\u001b[0m\u001b[0mn_recommendations\u001b[0m\u001b[0;34m]\u001b[0m\u001b[0;34m\u001b[0m\u001b[0;34m\u001b[0m\u001b[0m\n",
            "\u001b[0;32m<ipython-input-43-1766afb2da31>\u001b[0m in \u001b[0;36mpredict_ratings\u001b[0;34m(user_id, item_user_matrix, item_similarity_df)\u001b[0m\n\u001b[1;32m     12\u001b[0m \u001b[0;31m# Step 4: Predict ratings *   List itemfor a given user\u001b[0m\u001b[0;34m\u001b[0m\u001b[0;34m\u001b[0m\u001b[0m\n\u001b[1;32m     13\u001b[0m \u001b[0;32mdef\u001b[0m \u001b[0mpredict_ratings\u001b[0m\u001b[0;34m(\u001b[0m\u001b[0muser_id\u001b[0m\u001b[0;34m,\u001b[0m \u001b[0mitem_user_matrix\u001b[0m\u001b[0;34m,\u001b[0m \u001b[0mitem_similarity_df\u001b[0m\u001b[0;34m)\u001b[0m\u001b[0;34m:\u001b[0m\u001b[0;34m\u001b[0m\u001b[0;34m\u001b[0m\u001b[0m\n\u001b[0;32m---> 14\u001b[0;31m     \u001b[0muser_ratings\u001b[0m \u001b[0;34m=\u001b[0m \u001b[0mitem_user_matrix\u001b[0m\u001b[0;34m[\u001b[0m\u001b[0muser_id\u001b[0m\u001b[0;34m]\u001b[0m\u001b[0;34m\u001b[0m\u001b[0;34m\u001b[0m\u001b[0m\n\u001b[0m\u001b[1;32m     15\u001b[0m     \u001b[0muser_unrated_items\u001b[0m \u001b[0;34m=\u001b[0m \u001b[0muser_ratings\u001b[0m\u001b[0;34m[\u001b[0m\u001b[0muser_ratings\u001b[0m\u001b[0;34m.\u001b[0m\u001b[0misnull\u001b[0m\u001b[0;34m(\u001b[0m\u001b[0;34m)\u001b[0m\u001b[0;34m]\u001b[0m\u001b[0;34m\u001b[0m\u001b[0;34m\u001b[0m\u001b[0m\n\u001b[1;32m     16\u001b[0m     \u001b[0mpredictions\u001b[0m \u001b[0;34m=\u001b[0m \u001b[0;34m{\u001b[0m\u001b[0;34m}\u001b[0m\u001b[0;34m\u001b[0m\u001b[0;34m\u001b[0m\u001b[0m\n",
            "\u001b[0;32m/usr/local/lib/python3.10/dist-packages/pandas/core/frame.py\u001b[0m in \u001b[0;36m__getitem__\u001b[0;34m(self, key)\u001b[0m\n\u001b[1;32m   3805\u001b[0m             \u001b[0;32mif\u001b[0m \u001b[0mself\u001b[0m\u001b[0;34m.\u001b[0m\u001b[0mcolumns\u001b[0m\u001b[0;34m.\u001b[0m\u001b[0mnlevels\u001b[0m \u001b[0;34m>\u001b[0m \u001b[0;36m1\u001b[0m\u001b[0;34m:\u001b[0m\u001b[0;34m\u001b[0m\u001b[0;34m\u001b[0m\u001b[0m\n\u001b[1;32m   3806\u001b[0m                 \u001b[0;32mreturn\u001b[0m \u001b[0mself\u001b[0m\u001b[0;34m.\u001b[0m\u001b[0m_getitem_multilevel\u001b[0m\u001b[0;34m(\u001b[0m\u001b[0mkey\u001b[0m\u001b[0;34m)\u001b[0m\u001b[0;34m\u001b[0m\u001b[0;34m\u001b[0m\u001b[0m\n\u001b[0;32m-> 3807\u001b[0;31m             \u001b[0mindexer\u001b[0m \u001b[0;34m=\u001b[0m \u001b[0mself\u001b[0m\u001b[0;34m.\u001b[0m\u001b[0mcolumns\u001b[0m\u001b[0;34m.\u001b[0m\u001b[0mget_loc\u001b[0m\u001b[0;34m(\u001b[0m\u001b[0mkey\u001b[0m\u001b[0;34m)\u001b[0m\u001b[0;34m\u001b[0m\u001b[0;34m\u001b[0m\u001b[0m\n\u001b[0m\u001b[1;32m   3808\u001b[0m             \u001b[0;32mif\u001b[0m \u001b[0mis_integer\u001b[0m\u001b[0;34m(\u001b[0m\u001b[0mindexer\u001b[0m\u001b[0;34m)\u001b[0m\u001b[0;34m:\u001b[0m\u001b[0;34m\u001b[0m\u001b[0;34m\u001b[0m\u001b[0m\n\u001b[1;32m   3809\u001b[0m                 \u001b[0mindexer\u001b[0m \u001b[0;34m=\u001b[0m \u001b[0;34m[\u001b[0m\u001b[0mindexer\u001b[0m\u001b[0;34m]\u001b[0m\u001b[0;34m\u001b[0m\u001b[0;34m\u001b[0m\u001b[0m\n",
            "\u001b[0;32m/usr/local/lib/python3.10/dist-packages/pandas/core/indexes/base.py\u001b[0m in \u001b[0;36mget_loc\u001b[0;34m(self, key, method, tolerance)\u001b[0m\n\u001b[1;32m   3802\u001b[0m                 \u001b[0;32mreturn\u001b[0m \u001b[0mself\u001b[0m\u001b[0;34m.\u001b[0m\u001b[0m_engine\u001b[0m\u001b[0;34m.\u001b[0m\u001b[0mget_loc\u001b[0m\u001b[0;34m(\u001b[0m\u001b[0mcasted_key\u001b[0m\u001b[0;34m)\u001b[0m\u001b[0;34m\u001b[0m\u001b[0;34m\u001b[0m\u001b[0m\n\u001b[1;32m   3803\u001b[0m             \u001b[0;32mexcept\u001b[0m \u001b[0mKeyError\u001b[0m \u001b[0;32mas\u001b[0m \u001b[0merr\u001b[0m\u001b[0;34m:\u001b[0m\u001b[0;34m\u001b[0m\u001b[0;34m\u001b[0m\u001b[0m\n\u001b[0;32m-> 3804\u001b[0;31m                 \u001b[0;32mraise\u001b[0m \u001b[0mKeyError\u001b[0m\u001b[0;34m(\u001b[0m\u001b[0mkey\u001b[0m\u001b[0;34m)\u001b[0m \u001b[0;32mfrom\u001b[0m \u001b[0merr\u001b[0m\u001b[0;34m\u001b[0m\u001b[0;34m\u001b[0m\u001b[0m\n\u001b[0m\u001b[1;32m   3805\u001b[0m             \u001b[0;32mexcept\u001b[0m \u001b[0mTypeError\u001b[0m\u001b[0;34m:\u001b[0m\u001b[0;34m\u001b[0m\u001b[0;34m\u001b[0m\u001b[0m\n\u001b[1;32m   3806\u001b[0m                 \u001b[0;31m# If we have a listlike key, _check_indexing_error will raise\u001b[0m\u001b[0;34m\u001b[0m\u001b[0;34m\u001b[0m\u001b[0m\n",
            "\u001b[0;31mKeyError\u001b[0m: 6"
          ]
        }
      ]
    },
    {
      "cell_type": "code",
      "source": [
        "# Function to calculate Pearson Correlation Coefficient between items\n",
        "def pearson_correlation_similarity(matrix):\n",
        "    # Compute the Pearson correlation matrix from the dataframe\n",
        "    pearson_corr_matrix = matrix.corr(method='pearson')\n",
        "    return pearson_corr_matrix\n",
        "\n",
        "# Function to predict the rating for a user and an anime based on Pearson Correlation Coefficient\n",
        "def predict_rating_pearson(user_id, anime_id, user_anime_matrix, pearson_corr_matrix):\n",
        "    # Get the similarity scores for the anime in question with all other animes\n",
        "    sim_scores = pearson_corr_matrix[anime_id]\n",
        "\n",
        "    # Get the user's ratings\n",
        "    user_ratings = user_anime_matrix.loc[user_id]\n",
        "\n",
        "    # Exclude the current anime from the similarity scores\n",
        "    sim_scores = sim_scores.drop(anime_id)\n",
        "\n",
        "    # Exclude unrated animes by the user from the similarity scores and user's ratings\n",
        "    mask = user_ratings > 0\n",
        "    sim_scores = sim_scores[mask.index]\n",
        "    user_ratings = user_ratings[mask]\n",
        "\n",
        "    # Calculate the predicted rating\n",
        "    weighted_sum = np.dot(sim_scores, user_ratings)\n",
        "    sum_of_weights = sim_scores.abs().sum()\n",
        "\n",
        "    # If the sum of weights is 0, use the user's average rating; otherwise, compute the weighted sum\n",
        "    if sum_of_weights == 0:\n",
        "        predicted_rating = user_ratings.mean()\n",
        "    else:\n",
        "        predicted_rating = weighted_sum / sum_of_weights\n",
        "\n",
        "    return predicted_rating\n",
        "\n",
        "# Calculate the Pearson Correlation Coefficient between animes\n",
        "anime_pearson_corr = pearson_correlation_similarity(user_anime_matrix)\n"
      ],
      "metadata": {
        "id": "b2mwTeJXlt3C"
      },
      "execution_count": 47,
      "outputs": []
    },
    {
      "cell_type": "code",
      "source": [
        "# Example usage:\n",
        "# Predict the rating for user with id 'user_id' for anime with id 'anime_id'\n",
        "user_id = 636\n",
        "anime_id = 1\n",
        "predicted_rating = predict_rating_pearson(user_id, anime_id, user_anime_matrix, anime_pearson_corr)\n",
        "print(f\"Predicted rating for user {user_id} for anime {anime_id} is {predicted_rating}\")\n"
      ],
      "metadata": {
        "colab": {
          "base_uri": "https://localhost:8080/",
          "height": 385
        },
        "id": "BcobQ9DPoW9N",
        "outputId": "1059bcd8-3d6e-41a7-fa95-77066d382801"
      },
      "execution_count": 48,
      "outputs": [
        {
          "output_type": "error",
          "ename": "KeyError",
          "evalue": "ignored",
          "traceback": [
            "\u001b[0;31m---------------------------------------------------------------------------\u001b[0m",
            "\u001b[0;31mKeyError\u001b[0m                                  Traceback (most recent call last)",
            "\u001b[0;32m<ipython-input-48-c268ed5f4b20>\u001b[0m in \u001b[0;36m<cell line: 5>\u001b[0;34m()\u001b[0m\n\u001b[1;32m      3\u001b[0m \u001b[0muser_id\u001b[0m \u001b[0;34m=\u001b[0m \u001b[0;36m636\u001b[0m\u001b[0;34m\u001b[0m\u001b[0;34m\u001b[0m\u001b[0m\n\u001b[1;32m      4\u001b[0m \u001b[0manime_id\u001b[0m \u001b[0;34m=\u001b[0m \u001b[0;36m1\u001b[0m\u001b[0;34m\u001b[0m\u001b[0;34m\u001b[0m\u001b[0m\n\u001b[0;32m----> 5\u001b[0;31m \u001b[0mpredicted_rating\u001b[0m \u001b[0;34m=\u001b[0m \u001b[0mpredict_rating_pearson\u001b[0m\u001b[0;34m(\u001b[0m\u001b[0muser_id\u001b[0m\u001b[0;34m,\u001b[0m \u001b[0manime_id\u001b[0m\u001b[0;34m,\u001b[0m \u001b[0muser_anime_matrix\u001b[0m\u001b[0;34m,\u001b[0m \u001b[0manime_pearson_corr\u001b[0m\u001b[0;34m)\u001b[0m\u001b[0;34m\u001b[0m\u001b[0;34m\u001b[0m\u001b[0m\n\u001b[0m\u001b[1;32m      6\u001b[0m \u001b[0mprint\u001b[0m\u001b[0;34m(\u001b[0m\u001b[0;34mf\"Predicted rating for user {user_id} for anime {anime_id} is {predicted_rating}\"\u001b[0m\u001b[0;34m)\u001b[0m\u001b[0;34m\u001b[0m\u001b[0;34m\u001b[0m\u001b[0m\n",
            "\u001b[0;32m<ipython-input-47-5ab6202fcaaa>\u001b[0m in \u001b[0;36mpredict_rating_pearson\u001b[0;34m(user_id, anime_id, user_anime_matrix, pearson_corr_matrix)\u001b[0m\n\u001b[1;32m     23\u001b[0m     \u001b[0;31m# Exclude unrated animes by the user from the similarity scores and user's ratings\u001b[0m\u001b[0;34m\u001b[0m\u001b[0;34m\u001b[0m\u001b[0m\n\u001b[1;32m     24\u001b[0m     \u001b[0mmask\u001b[0m \u001b[0;34m=\u001b[0m \u001b[0muser_ratings\u001b[0m \u001b[0;34m>\u001b[0m \u001b[0;36m0\u001b[0m\u001b[0;34m\u001b[0m\u001b[0;34m\u001b[0m\u001b[0m\n\u001b[0;32m---> 25\u001b[0;31m     \u001b[0msim_scores\u001b[0m \u001b[0;34m=\u001b[0m \u001b[0msim_scores\u001b[0m\u001b[0;34m[\u001b[0m\u001b[0mmask\u001b[0m\u001b[0;34m.\u001b[0m\u001b[0mindex\u001b[0m\u001b[0;34m]\u001b[0m\u001b[0;34m\u001b[0m\u001b[0;34m\u001b[0m\u001b[0m\n\u001b[0m\u001b[1;32m     26\u001b[0m     \u001b[0muser_ratings\u001b[0m \u001b[0;34m=\u001b[0m \u001b[0muser_ratings\u001b[0m\u001b[0;34m[\u001b[0m\u001b[0mmask\u001b[0m\u001b[0;34m]\u001b[0m\u001b[0;34m\u001b[0m\u001b[0;34m\u001b[0m\u001b[0m\n\u001b[1;32m     27\u001b[0m \u001b[0;34m\u001b[0m\u001b[0m\n",
            "\u001b[0;32m/usr/local/lib/python3.10/dist-packages/pandas/core/series.py\u001b[0m in \u001b[0;36m__getitem__\u001b[0;34m(self, key)\u001b[0m\n\u001b[1;32m   1005\u001b[0m             \u001b[0;32mreturn\u001b[0m \u001b[0mself\u001b[0m\u001b[0;34m.\u001b[0m\u001b[0m_get_values\u001b[0m\u001b[0;34m(\u001b[0m\u001b[0mkey\u001b[0m\u001b[0;34m)\u001b[0m\u001b[0;34m\u001b[0m\u001b[0;34m\u001b[0m\u001b[0m\n\u001b[1;32m   1006\u001b[0m \u001b[0;34m\u001b[0m\u001b[0m\n\u001b[0;32m-> 1007\u001b[0;31m         \u001b[0;32mreturn\u001b[0m \u001b[0mself\u001b[0m\u001b[0;34m.\u001b[0m\u001b[0m_get_with\u001b[0m\u001b[0;34m(\u001b[0m\u001b[0mkey\u001b[0m\u001b[0;34m)\u001b[0m\u001b[0;34m\u001b[0m\u001b[0;34m\u001b[0m\u001b[0m\n\u001b[0m\u001b[1;32m   1008\u001b[0m \u001b[0;34m\u001b[0m\u001b[0m\n\u001b[1;32m   1009\u001b[0m     \u001b[0;32mdef\u001b[0m \u001b[0m_get_with\u001b[0m\u001b[0;34m(\u001b[0m\u001b[0mself\u001b[0m\u001b[0;34m,\u001b[0m \u001b[0mkey\u001b[0m\u001b[0;34m)\u001b[0m\u001b[0;34m:\u001b[0m\u001b[0;34m\u001b[0m\u001b[0;34m\u001b[0m\u001b[0m\n",
            "\u001b[0;32m/usr/local/lib/python3.10/dist-packages/pandas/core/series.py\u001b[0m in \u001b[0;36m_get_with\u001b[0;34m(self, key)\u001b[0m\n\u001b[1;32m   1040\u001b[0m             \u001b[0;31m#  (i.e. self.iloc) or label-based (i.e. self.loc)\u001b[0m\u001b[0;34m\u001b[0m\u001b[0;34m\u001b[0m\u001b[0m\n\u001b[1;32m   1041\u001b[0m             \u001b[0;32mif\u001b[0m \u001b[0;32mnot\u001b[0m \u001b[0mself\u001b[0m\u001b[0;34m.\u001b[0m\u001b[0mindex\u001b[0m\u001b[0;34m.\u001b[0m\u001b[0m_should_fallback_to_positional\u001b[0m\u001b[0;34m:\u001b[0m\u001b[0;34m\u001b[0m\u001b[0;34m\u001b[0m\u001b[0m\n\u001b[0;32m-> 1042\u001b[0;31m                 \u001b[0;32mreturn\u001b[0m \u001b[0mself\u001b[0m\u001b[0;34m.\u001b[0m\u001b[0mloc\u001b[0m\u001b[0;34m[\u001b[0m\u001b[0mkey\u001b[0m\u001b[0;34m]\u001b[0m\u001b[0;34m\u001b[0m\u001b[0;34m\u001b[0m\u001b[0m\n\u001b[0m\u001b[1;32m   1043\u001b[0m             \u001b[0;32melse\u001b[0m\u001b[0;34m:\u001b[0m\u001b[0;34m\u001b[0m\u001b[0;34m\u001b[0m\u001b[0m\n\u001b[1;32m   1044\u001b[0m                 \u001b[0;32mreturn\u001b[0m \u001b[0mself\u001b[0m\u001b[0;34m.\u001b[0m\u001b[0miloc\u001b[0m\u001b[0;34m[\u001b[0m\u001b[0mkey\u001b[0m\u001b[0;34m]\u001b[0m\u001b[0;34m\u001b[0m\u001b[0;34m\u001b[0m\u001b[0m\n",
            "\u001b[0;32m/usr/local/lib/python3.10/dist-packages/pandas/core/indexing.py\u001b[0m in \u001b[0;36m__getitem__\u001b[0;34m(self, key)\u001b[0m\n\u001b[1;32m   1071\u001b[0m \u001b[0;34m\u001b[0m\u001b[0m\n\u001b[1;32m   1072\u001b[0m             \u001b[0mmaybe_callable\u001b[0m \u001b[0;34m=\u001b[0m \u001b[0mcom\u001b[0m\u001b[0;34m.\u001b[0m\u001b[0mapply_if_callable\u001b[0m\u001b[0;34m(\u001b[0m\u001b[0mkey\u001b[0m\u001b[0;34m,\u001b[0m \u001b[0mself\u001b[0m\u001b[0;34m.\u001b[0m\u001b[0mobj\u001b[0m\u001b[0;34m)\u001b[0m\u001b[0;34m\u001b[0m\u001b[0;34m\u001b[0m\u001b[0m\n\u001b[0;32m-> 1073\u001b[0;31m             \u001b[0;32mreturn\u001b[0m \u001b[0mself\u001b[0m\u001b[0;34m.\u001b[0m\u001b[0m_getitem_axis\u001b[0m\u001b[0;34m(\u001b[0m\u001b[0mmaybe_callable\u001b[0m\u001b[0;34m,\u001b[0m \u001b[0maxis\u001b[0m\u001b[0;34m=\u001b[0m\u001b[0maxis\u001b[0m\u001b[0;34m)\u001b[0m\u001b[0;34m\u001b[0m\u001b[0;34m\u001b[0m\u001b[0m\n\u001b[0m\u001b[1;32m   1074\u001b[0m \u001b[0;34m\u001b[0m\u001b[0m\n\u001b[1;32m   1075\u001b[0m     \u001b[0;32mdef\u001b[0m \u001b[0m_is_scalar_access\u001b[0m\u001b[0;34m(\u001b[0m\u001b[0mself\u001b[0m\u001b[0;34m,\u001b[0m \u001b[0mkey\u001b[0m\u001b[0;34m:\u001b[0m \u001b[0mtuple\u001b[0m\u001b[0;34m)\u001b[0m\u001b[0;34m:\u001b[0m\u001b[0;34m\u001b[0m\u001b[0;34m\u001b[0m\u001b[0m\n",
            "\u001b[0;32m/usr/local/lib/python3.10/dist-packages/pandas/core/indexing.py\u001b[0m in \u001b[0;36m_getitem_axis\u001b[0;34m(self, key, axis)\u001b[0m\n\u001b[1;32m   1299\u001b[0m                     \u001b[0;32mraise\u001b[0m \u001b[0mValueError\u001b[0m\u001b[0;34m(\u001b[0m\u001b[0;34m\"Cannot index with multidimensional key\"\u001b[0m\u001b[0;34m)\u001b[0m\u001b[0;34m\u001b[0m\u001b[0;34m\u001b[0m\u001b[0m\n\u001b[1;32m   1300\u001b[0m \u001b[0;34m\u001b[0m\u001b[0m\n\u001b[0;32m-> 1301\u001b[0;31m                 \u001b[0;32mreturn\u001b[0m \u001b[0mself\u001b[0m\u001b[0;34m.\u001b[0m\u001b[0m_getitem_iterable\u001b[0m\u001b[0;34m(\u001b[0m\u001b[0mkey\u001b[0m\u001b[0;34m,\u001b[0m \u001b[0maxis\u001b[0m\u001b[0;34m=\u001b[0m\u001b[0maxis\u001b[0m\u001b[0;34m)\u001b[0m\u001b[0;34m\u001b[0m\u001b[0;34m\u001b[0m\u001b[0m\n\u001b[0m\u001b[1;32m   1302\u001b[0m \u001b[0;34m\u001b[0m\u001b[0m\n\u001b[1;32m   1303\u001b[0m             \u001b[0;31m# nested tuple slicing\u001b[0m\u001b[0;34m\u001b[0m\u001b[0;34m\u001b[0m\u001b[0m\n",
            "\u001b[0;32m/usr/local/lib/python3.10/dist-packages/pandas/core/indexing.py\u001b[0m in \u001b[0;36m_getitem_iterable\u001b[0;34m(self, key, axis)\u001b[0m\n\u001b[1;32m   1237\u001b[0m \u001b[0;34m\u001b[0m\u001b[0m\n\u001b[1;32m   1238\u001b[0m         \u001b[0;31m# A collection of keys\u001b[0m\u001b[0;34m\u001b[0m\u001b[0;34m\u001b[0m\u001b[0m\n\u001b[0;32m-> 1239\u001b[0;31m         \u001b[0mkeyarr\u001b[0m\u001b[0;34m,\u001b[0m \u001b[0mindexer\u001b[0m \u001b[0;34m=\u001b[0m \u001b[0mself\u001b[0m\u001b[0;34m.\u001b[0m\u001b[0m_get_listlike_indexer\u001b[0m\u001b[0;34m(\u001b[0m\u001b[0mkey\u001b[0m\u001b[0;34m,\u001b[0m \u001b[0maxis\u001b[0m\u001b[0;34m)\u001b[0m\u001b[0;34m\u001b[0m\u001b[0;34m\u001b[0m\u001b[0m\n\u001b[0m\u001b[1;32m   1240\u001b[0m         return self.obj._reindex_with_indexers(\n\u001b[1;32m   1241\u001b[0m             \u001b[0;34m{\u001b[0m\u001b[0maxis\u001b[0m\u001b[0;34m:\u001b[0m \u001b[0;34m[\u001b[0m\u001b[0mkeyarr\u001b[0m\u001b[0;34m,\u001b[0m \u001b[0mindexer\u001b[0m\u001b[0;34m]\u001b[0m\u001b[0;34m}\u001b[0m\u001b[0;34m,\u001b[0m \u001b[0mcopy\u001b[0m\u001b[0;34m=\u001b[0m\u001b[0;32mTrue\u001b[0m\u001b[0;34m,\u001b[0m \u001b[0mallow_dups\u001b[0m\u001b[0;34m=\u001b[0m\u001b[0;32mTrue\u001b[0m\u001b[0;34m\u001b[0m\u001b[0;34m\u001b[0m\u001b[0m\n",
            "\u001b[0;32m/usr/local/lib/python3.10/dist-packages/pandas/core/indexing.py\u001b[0m in \u001b[0;36m_get_listlike_indexer\u001b[0;34m(self, key, axis)\u001b[0m\n\u001b[1;32m   1430\u001b[0m         \u001b[0maxis_name\u001b[0m \u001b[0;34m=\u001b[0m \u001b[0mself\u001b[0m\u001b[0;34m.\u001b[0m\u001b[0mobj\u001b[0m\u001b[0;34m.\u001b[0m\u001b[0m_get_axis_name\u001b[0m\u001b[0;34m(\u001b[0m\u001b[0maxis\u001b[0m\u001b[0;34m)\u001b[0m\u001b[0;34m\u001b[0m\u001b[0;34m\u001b[0m\u001b[0m\n\u001b[1;32m   1431\u001b[0m \u001b[0;34m\u001b[0m\u001b[0m\n\u001b[0;32m-> 1432\u001b[0;31m         \u001b[0mkeyarr\u001b[0m\u001b[0;34m,\u001b[0m \u001b[0mindexer\u001b[0m \u001b[0;34m=\u001b[0m \u001b[0max\u001b[0m\u001b[0;34m.\u001b[0m\u001b[0m_get_indexer_strict\u001b[0m\u001b[0;34m(\u001b[0m\u001b[0mkey\u001b[0m\u001b[0;34m,\u001b[0m \u001b[0maxis_name\u001b[0m\u001b[0;34m)\u001b[0m\u001b[0;34m\u001b[0m\u001b[0;34m\u001b[0m\u001b[0m\n\u001b[0m\u001b[1;32m   1433\u001b[0m \u001b[0;34m\u001b[0m\u001b[0m\n\u001b[1;32m   1434\u001b[0m         \u001b[0;32mreturn\u001b[0m \u001b[0mkeyarr\u001b[0m\u001b[0;34m,\u001b[0m \u001b[0mindexer\u001b[0m\u001b[0;34m\u001b[0m\u001b[0;34m\u001b[0m\u001b[0m\n",
            "\u001b[0;32m/usr/local/lib/python3.10/dist-packages/pandas/core/indexes/base.py\u001b[0m in \u001b[0;36m_get_indexer_strict\u001b[0;34m(self, key, axis_name)\u001b[0m\n\u001b[1;32m   6068\u001b[0m             \u001b[0mkeyarr\u001b[0m\u001b[0;34m,\u001b[0m \u001b[0mindexer\u001b[0m\u001b[0;34m,\u001b[0m \u001b[0mnew_indexer\u001b[0m \u001b[0;34m=\u001b[0m \u001b[0mself\u001b[0m\u001b[0;34m.\u001b[0m\u001b[0m_reindex_non_unique\u001b[0m\u001b[0;34m(\u001b[0m\u001b[0mkeyarr\u001b[0m\u001b[0;34m)\u001b[0m\u001b[0;34m\u001b[0m\u001b[0;34m\u001b[0m\u001b[0m\n\u001b[1;32m   6069\u001b[0m \u001b[0;34m\u001b[0m\u001b[0m\n\u001b[0;32m-> 6070\u001b[0;31m         \u001b[0mself\u001b[0m\u001b[0;34m.\u001b[0m\u001b[0m_raise_if_missing\u001b[0m\u001b[0;34m(\u001b[0m\u001b[0mkeyarr\u001b[0m\u001b[0;34m,\u001b[0m \u001b[0mindexer\u001b[0m\u001b[0;34m,\u001b[0m \u001b[0maxis_name\u001b[0m\u001b[0;34m)\u001b[0m\u001b[0;34m\u001b[0m\u001b[0;34m\u001b[0m\u001b[0m\n\u001b[0m\u001b[1;32m   6071\u001b[0m \u001b[0;34m\u001b[0m\u001b[0m\n\u001b[1;32m   6072\u001b[0m         \u001b[0mkeyarr\u001b[0m \u001b[0;34m=\u001b[0m \u001b[0mself\u001b[0m\u001b[0;34m.\u001b[0m\u001b[0mtake\u001b[0m\u001b[0;34m(\u001b[0m\u001b[0mindexer\u001b[0m\u001b[0;34m)\u001b[0m\u001b[0;34m\u001b[0m\u001b[0;34m\u001b[0m\u001b[0m\n",
            "\u001b[0;32m/usr/local/lib/python3.10/dist-packages/pandas/core/indexes/base.py\u001b[0m in \u001b[0;36m_raise_if_missing\u001b[0;34m(self, key, indexer, axis_name)\u001b[0m\n\u001b[1;32m   6131\u001b[0m \u001b[0;34m\u001b[0m\u001b[0m\n\u001b[1;32m   6132\u001b[0m             \u001b[0mnot_found\u001b[0m \u001b[0;34m=\u001b[0m \u001b[0mlist\u001b[0m\u001b[0;34m(\u001b[0m\u001b[0mensure_index\u001b[0m\u001b[0;34m(\u001b[0m\u001b[0mkey\u001b[0m\u001b[0;34m)\u001b[0m\u001b[0;34m[\u001b[0m\u001b[0mmissing_mask\u001b[0m\u001b[0;34m.\u001b[0m\u001b[0mnonzero\u001b[0m\u001b[0;34m(\u001b[0m\u001b[0;34m)\u001b[0m\u001b[0;34m[\u001b[0m\u001b[0;36m0\u001b[0m\u001b[0;34m]\u001b[0m\u001b[0;34m]\u001b[0m\u001b[0;34m.\u001b[0m\u001b[0munique\u001b[0m\u001b[0;34m(\u001b[0m\u001b[0;34m)\u001b[0m\u001b[0;34m)\u001b[0m\u001b[0;34m\u001b[0m\u001b[0;34m\u001b[0m\u001b[0m\n\u001b[0;32m-> 6133\u001b[0;31m             \u001b[0;32mraise\u001b[0m \u001b[0mKeyError\u001b[0m\u001b[0;34m(\u001b[0m\u001b[0;34mf\"{not_found} not in index\"\u001b[0m\u001b[0;34m)\u001b[0m\u001b[0;34m\u001b[0m\u001b[0;34m\u001b[0m\u001b[0m\n\u001b[0m\u001b[1;32m   6134\u001b[0m \u001b[0;34m\u001b[0m\u001b[0m\n\u001b[1;32m   6135\u001b[0m     \u001b[0;34m@\u001b[0m\u001b[0moverload\u001b[0m\u001b[0;34m\u001b[0m\u001b[0;34m\u001b[0m\u001b[0m\n",
            "\u001b[0;31mKeyError\u001b[0m: '[1] not in index'"
          ]
        }
      ]
    },
    {
      "cell_type": "code",
      "source": [
        "import numpy as np\n",
        "import pandas as pd\n",
        "\n",
        "# Function to predict the rating for a user and an anime based on Pearson Correlation Coefficient\n",
        "def predict_rating_pearson(user_id, anime_id, user_anime_matrix, pearson_corr_matrix):\n",
        "    # Check if the anime_id is in the Pearson correlation matrix\n",
        "    if anime_id not in pearson_corr_matrix.columns:\n",
        "        raise ValueError(f\"Anime ID {anime_id} is not in the Pearson correlation matrix\")\n",
        "\n",
        "    # Get the similarity scores for the anime in question with all other animes\n",
        "    sim_scores = pearson_corr_matrix[anime_id]\n",
        "\n",
        "    # Get the user's ratings\n",
        "    user_ratings = user_anime_matrix.loc[user_id]\n",
        "\n",
        "    # Exclude the current anime from the similarity scores\n",
        "    # sim_scores = sim_scores.drop(anime_id)\n",
        "\n",
        "    # Exclude unrated animes by the user from the similarity scores and user's ratings\n",
        "    mask = user_ratings.notna()\n",
        "    sim_scores = sim_scores[mask.index]\n",
        "    user_ratings = user_ratings[mask]\n",
        "\n",
        "    # Normalize user ratings by subtracting the user's average rating\n",
        "    user_avg_rating = user_ratings.mean()\n",
        "    user_ratings = user_ratings - user_avg_rating\n",
        "\n",
        "    # Calculate the predicted rating\n",
        "    weighted_sum = np.dot(sim_scores, user_ratings)\n",
        "    sum_of_weights = sim_scores.abs().sum()\n",
        "\n",
        "    # If the sum of weights is 0, use the user's average rating; otherwise, compute the weighted sum\n",
        "    if sum_of_weights == 0:\n",
        "        predicted_rating = user_avg_rating\n",
        "    else:\n",
        "        predicted_rating = user_avg_rating + (weighted_sum / sum_of_weights)\n",
        "\n",
        "    return predicted_rating\n",
        "\n",
        "# Example usage:\n",
        "# Predict the rating for user with id 'user_id' for anime with id 'anime_id'\n",
        "user_id = 1  # Example user_id\n",
        "anime_id = 5  # Example anime_id\n",
        "\n",
        "# Ensure that the anime_id is in the user_anime_matrix before proceeding\n",
        "if anime_id not in user_anime_matrix.columns:\n",
        "    print(f\"Anime ID {anime_id} is not in the user-anime matrix\")\n",
        "else:\n",
        "    # Calculate the Pearson Correlation Coefficient between animes\n",
        "    anime_pearson_corr = pearson_correlation_similarity(user_anime_matrix)\n",
        "\n",
        "    try:\n",
        "        predicted_rating = predict_rating_pearson(user_id, anime_id, user_anime_matrix, anime_pearson_corr)\n",
        "        print(f\"Predicted rating for user {user_id} for anime {anime_id} is {predicted_rating:.2f}\")\n",
        "    except ValueError as e:\n",
        "        print(e)\n"
      ],
      "metadata": {
        "colab": {
          "base_uri": "https://localhost:8080/"
        },
        "id": "UwXVd4Pdn-DG",
        "outputId": "a2d02bd9-be50-448d-dc0c-539f5aa9a35f"
      },
      "execution_count": 52,
      "outputs": [
        {
          "output_type": "stream",
          "name": "stdout",
          "text": [
            "shapes (9965,) and (111,) not aligned: 9965 (dim 0) != 111 (dim 0)\n"
          ]
        }
      ]
    },
    {
      "cell_type": "code",
      "source": [],
      "metadata": {
        "id": "oH3-a2Qiq4bu"
      },
      "execution_count": null,
      "outputs": []
    }
  ]
}